{
 "cells": [
  {
   "cell_type": "code",
   "execution_count": 1,
   "id": "2a340d68-b8d8-43f5-aca4-141da2faad90",
   "metadata": {
    "editable": true,
    "scrolled": true,
    "slideshow": {
     "slide_type": ""
    },
    "tags": []
   },
   "outputs": [],
   "source": [
    "import pandas as pd\n",
    "import os\n",
    "import numpy as np\n",
    "import nltk\n",
    "from nltk.corpus import stopwords\n",
    "from nltk.stem import PorterStemmer\n",
    "from nltk import ngrams\n",
    "\n",
    "import nbconvert\n",
    "import plotly.io as pio\n",
    "import plotly.graph_objects as go\n",
    "import plotly.figure_factory as ff\n",
    "import plotly.express as px\n",
    "\n",
    "from IPython.display import Markdown, SVG, display, Image, HTML\n",
    "\n",
    "from config import *\n",
    "# Downloaded the stopwords through nltk\n",
    "#nltk.download('stopwords')\n",
    "#nltk.download('punkt')\n",
    "\n",
    "# Defintion to churn out totals/percentages to avoid copy pasta.\n",
    "def summarize_column(df, column_name):\n",
    "    non_null_data = df[column_name].dropna()\n",
    "    summary = non_null_data.value_counts()\n",
    "    percentages = (non_null_data.value_counts(normalize=True) * 100).round(1)\n",
    "    summary = pd.DataFrame({'Total': summary, 'Percentage': percentages})\n",
    "    sample_size = non_null_data.shape[0]\n",
    "    return summary, sample_size"
   ]
  },
  {
   "attachments": {},
   "cell_type": "markdown",
   "id": "0d3f41ed-0932-402b-8231-11ce32c9d476",
   "metadata": {},
   "source": [
    "<div style=\"text-align: center;\">\n",
    "\n",
    "<h1>Yarn Survey 2024</h1>\n",
    "\n",
    "<h4>Presented by</h4>\n",
    "\n",
    "<h2>Premier Needle Arts</h2>\n",
    "\n",
    "</div>\n",
    "<br>\n",
    "<br>\n",
    "<div style=\"page-break-after: always; text-align: center;\">\n",
    "    The 2024 Yarn Survey was put on by Knit Picks, Berroco, and Crochet.com <br> to get more contextual knowledge of knitters, crocheters, and general yarn enthusiasts.\n",
    "</div>"
   ]
  },
  {
   "cell_type": "code",
   "execution_count": 2,
   "id": "fc139510-8ba3-4ae6-9b74-8b3a480404da",
   "metadata": {},
   "outputs": [],
   "source": [
    "all_responses = pd.read_csv('./CSV/all_processed.csv', encoding='utf-8')"
   ]
  },
  {
   "cell_type": "code",
   "execution_count": 3,
   "id": "4832c188-c43e-4cd8-824e-91b0f73da2cb",
   "metadata": {},
   "outputs": [
    {
     "data": {
      "text/plain": [
       "[(0, '#'),\n",
       " (1, 'First name'),\n",
       " (2, 'Email'),\n",
       " (3, 'Do you participate in any yarn crafts?'),\n",
       " (4, 'Do you crochet?'),\n",
       " (5, 'What is your current skill level in crocheting?'),\n",
       " (6, 'How often do you crochet?'),\n",
       " (7, 'Do you knit?'),\n",
       " (8, 'What is your current skill level in knitting?'),\n",
       " (9, 'How often do you knit?'),\n",
       " (10, 'Do you participate in yarn crafts besides crochet or knitting?'),\n",
       " (11, 'Which yarn craft do you participate in?'),\n",
       " (12, 'What is your current skill level in this yarn craft?'),\n",
       " (13, 'How often do you you participate in this yarn craft?'),\n",
       " (14, 'How do you most often purchase *yarn*?'),\n",
       " (15, 'Where do you most often purchase* yarn*?'),\n",
       " (16, 'How do you most often purchase yarn *tools & accessories*?'),\n",
       " (17, 'Where do you most often purchase *tools & accessories*?'),\n",
       " (18, 'How do you most often purchase *patterns*?'),\n",
       " (19, 'Where do you most often purchase *patterns*?'),\n",
       " (20, 'How have your yarn shopping habits changed over time?'),\n",
       " (21,\n",
       "  'How many times do you make an *in-store* yarn related purchase each year?'),\n",
       " (22, 'How much do you typically spend per *in-store* purchase?'),\n",
       " (23,\n",
       "  'How many times do you make an *online* yarn related purchase each year?'),\n",
       " (24, 'How much do you typically spend per *online* purchase?'),\n",
       " (25, 'Where did you receive this survey from?'),\n",
       " (26, 'How did you first hear about our brand?'),\n",
       " (27, 'How did you first hear about our brand?.1'),\n",
       " (28, 'Which social media platform?'),\n",
       " (29, 'Which brands have you heard of?'),\n",
       " (30, 'Which brands have you purchased from?'),\n",
       " (31, 'What makes our yarn stand out from competitors to you?'),\n",
       " (32, 'Compared to other brands, how do you rate the price of our products?'),\n",
       " (33, 'Where do you prefer to explore or learn about new yarn products?'),\n",
       " (34, 'Which social media platform?.1'),\n",
       " (35, 'How often do you visit a local yarn store?'),\n",
       " (36, 'Do you participate in knitting/crochet classes or meetups?'),\n",
       " (37, 'Do you attend any fiber festivals or shows for makers?'),\n",
       " (38, 'If so, which fiber festivals or shows?'),\n",
       " (39, 'When shopping online, what encourages you to try *new* yarn products?'),\n",
       " (40, 'What products do you primarily associate with our brand?'),\n",
       " (41, 'Which of our yarn fibers do you frequently purchase?'),\n",
       " (42, 'Which types of projects do you typically buy our yarn for?'),\n",
       " (43,\n",
       "  'Can you briefly explain why you buy these yarn fibers for the selected project types?'),\n",
       " (44, 'How important is sustainability in the yarns you choose?'),\n",
       " (45, 'Which social media platforms do you normally get project ideas from?'),\n",
       " (46, 'Who is your favorite content creator or designer you follow?'),\n",
       " (47, 'How many projects do you start in a year?'),\n",
       " (48, 'How many projects do you complete in a year? '),\n",
       " (49,\n",
       "  'How do you feel about the balance between classic and trendy yarns in our selection?'),\n",
       " (50, 'How often is something you want from our website out-of-stock?'),\n",
       " (51, 'How effective is our communication when items are restocked?'),\n",
       " (52,\n",
       "  'Have you been able to find everything you need for a project on our website?'),\n",
       " (53,\n",
       "  'Are there any yarn related products you think we should start carrying?'),\n",
       " (54, 'How easy do you find navigating our website to browse products?'),\n",
       " (55,\n",
       "  'Would you recommend any changes to our website to make browsing easier?'),\n",
       " (56,\n",
       "  'How would you rate the organization and categorization of products on our site?'),\n",
       " (57,\n",
       "  'Do you prefer broader categories with more products or more specific categories with fewer products?'),\n",
       " (58, 'Have you received one of our catalogs before?'),\n",
       " (59, 'Do you enjoy receiving our product catalogs?'),\n",
       " (60,\n",
       "  \"How often do our catalogs introduce you to products you weren't aware of before?\"),\n",
       " (61, 'Have you ever made a purchase after seeing a product in our catalog?'),\n",
       " (62,\n",
       "  'Are you concerned about the environmental impact of receiving physical catalogs?'),\n",
       " (63,\n",
       "  'Do you prefer receiving our catalogs digitally or in a physical format?'),\n",
       " (64, 'What improvements would you suggest for our future catalogs?'),\n",
       " (65, 'Have you ever contacted our customer service before?'),\n",
       " (66, 'How would you rate the speed of our response to inquiries or issues?'),\n",
       " (67, 'How helpful do you find our customer service team?'),\n",
       " (68,\n",
       "  'How well did our customer service team understand the products related to your inquiry?'),\n",
       " (69,\n",
       "  'Overall, are you satisfied with the resolution our customer service provided?'),\n",
       " (70, 'What is one thing we could improve about our customer service?'),\n",
       " (71,\n",
       "  'Which brands or indie designers have the best patterns in terms of design and wearability?\\n'),\n",
       " (72, 'Which brands or indie designers have the best pattern instructions?'),\n",
       " (73, 'How did you learn to knit/crochet?'),\n",
       " (74, 'Why do you knit/crochet?'),\n",
       " (75,\n",
       "  'On a scale of 0-10, how likely are you to recommend us to a friend or family member?'),\n",
       " (76, 'What is your current age?  '),\n",
       " (77, 'How do you identify?\\u202f  '),\n",
       " (78, 'What is your employment status?\\u202f\\u202f  '),\n",
       " (79, 'What is your highest level of education?\\u202f\\u202f  '),\n",
       " (80, 'What is your marital status?\\u202f  '),\n",
       " (81, 'What is your total household income in U.S. dollars?  ')]"
      ]
     },
     "execution_count": 3,
     "metadata": {},
     "output_type": "execute_result"
    }
   ],
   "source": [
    "# Create list of all questions to summarize.\n",
    "[(i, col) for i, col in enumerate(all_responses.columns.tolist())]"
   ]
  },
  {
   "cell_type": "code",
   "execution_count": 4,
   "id": "19799d56-d213-4601-abde-8a6e5935baa5",
   "metadata": {},
   "outputs": [
    {
     "data": {
      "text/markdown": [
       "## Demographic Summary"
      ],
      "text/plain": [
       "<IPython.core.display.Markdown object>"
      ]
     },
     "metadata": {},
     "output_type": "display_data"
    },
    {
     "name": "stdout",
     "output_type": "stream",
     "text": [
      "\n",
      "\n"
     ]
    },
    {
     "data": {
      "image/png": "[encoded data removed]",
      "text/plain": [
       "<IPython.core.display.Image object>"
      ]
     },
     "metadata": {},
     "output_type": "display_data"
    },
    {
     "data": {
      "text/markdown": [
       " - Out of **6521** respondants, the average respondant age is: **58** and the median age is: **59**."
      ],
      "text/plain": [
       "<IPython.core.display.Markdown object>"
      ]
     },
     "metadata": {},
     "output_type": "display_data"
    },
    {
     "data": {
      "text/markdown": [
       "- Of these respondants, they identify as:\n",
       "    - \"Woman\" (98%)\n",
       "    - \"Non-Conforming / Non-Binary\" (1%)\n",
       "    - \"Man\" (1%)\n",
       "    - \"Transgender\" (0%)\n"
      ],
      "text/plain": [
       "<IPython.core.display.Markdown object>"
      ]
     },
     "metadata": {},
     "output_type": "display_data"
    },
    {
     "data": {
      "text/markdown": [
       "- The average household income is: **\\$89,596** and the median household income is: **\\$72,499** (From 4527 responses).\n",
       "  - For ages **Under 18** the average household income is **\\\\$22,500**, the median household income is **\\\\$20,000** (From 3 responses.)\n",
       "  - For ages **18-24** the average household income is **\\\\$61,250**, the median household income is **\\\\$42,500** (From 40 responses.)\n",
       "  - For ages **25-34** the average household income is **\\\\$87,831**, the median household income is **\\\\$72,500** (From 287 responses.)\n",
       "  - For ages **35-44** the average household income is **\\\\$102,103**, the median household income is **\\\\$90,000** (From 517 responses.)\n",
       "  - For ages **45-54** the average household income is **\\\\$105,719**, the median household income is **\\\\$112,500** (From 594 responses.)\n",
       "  - For ages **55-64** the average household income is **\\\\$97,537**, the median household income is **\\\\$90,000** (From 997 responses.)\n",
       "  - For ages **65-74** the average household income is **\\\\$79,221**, the median household income is **\\\\$72,500** (From 1185 responses.)\n",
       "  - For ages **75 and older** the average household income is **\\\\$74,103**, the median household income is **\\\\$57,500** (From 393 responses.)\n"
      ],
      "text/plain": [
       "<IPython.core.display.Markdown object>"
      ]
     },
     "metadata": {},
     "output_type": "display_data"
    }
   ],
   "source": [
    "#### Demographic Title Section ###\n",
    "display(Markdown(f\"## Demographic Summary\"))\n",
    "print(\"\\n\")\n",
    "\n",
    "### Age Graph Section ###\n",
    "\n",
    "question = all_responses.columns[76]\n",
    "column_data = all_responses[question].loc[all_responses[question] != 'Prefer not to answer'].dropna()\n",
    "sample_size = column_data.shape[0]\n",
    "\n",
    "# Calculate counts and percentages\n",
    "value_counts = column_data.value_counts().reset_index()\n",
    "value_counts.columns = ['Category', 'Count']\n",
    "percentages = column_data.value_counts(normalize=True).mul(100).round(1).reset_index()\n",
    "percentages.columns = ['Category', 'Percentage']\n",
    "# Merge counts with percentages\n",
    "summary_df = pd.merge(value_counts, percentages, on='Category')\n",
    "\n",
    "# Age display order\n",
    "categories = ['Under 18', '18-24', '25-34', '35-44', '45-54', '55-64', '65-74', '75 and older']\n",
    "# New line to convert 'Category' into an ordered categorical type with custom descending order\n",
    "summary_df['Category'] = pd.Categorical(summary_df['Category'], categories=categories, ordered=True)\n",
    "summary_df = summary_df.sort_values('Category')\n",
    "\n",
    "# Create a bar graph with percentages above bars\n",
    "fig = px.bar(summary_df, x='Category', y='Count', title='Customer Age Distribution',\n",
    "             text='Percentage', color_discrete_sequence=['#242B64'])\n",
    "\n",
    "# Customization for displaying percentages\n",
    "fig.update_traces(texttemplate='%{text}%', textposition='outside')\n",
    "\n",
    "# Customization for layout\n",
    "fig.update_layout(\n",
    "    xaxis_title='Category',\n",
    "    yaxis_title='Count',\n",
    "    plot_bgcolor='white',\n",
    "    paper_bgcolor='white',\n",
    "    uniformtext_minsize=8,  # Adjust text size if needed\n",
    "    uniformtext_mode='hide',\n",
    "    height=600,  # Increase height to provide more space\n",
    "    width=750,\n",
    "    margin=dict(t=100)  # Add more top margin for padding\n",
    ")\n",
    "\n",
    "# Show the figure\n",
    "fig.write_image(\"./IMG/age.png\")\n",
    "display(Image(filename=\"./IMG/age.png\"))\n",
    "\n",
    "### Age Text Section ###\n",
    "\n",
    "# Function to map age ranges to their average values\n",
    "def map_age_to_average(value):\n",
    "    if value == 'Under 18':\n",
    "        return 18\n",
    "    elif value == '18-24':\n",
    "        return 21\n",
    "    elif value == '25-34':\n",
    "        return 29.5\n",
    "    elif value == '35-44':\n",
    "        return 39.5\n",
    "    elif value == '45-54':\n",
    "        return 49.5\n",
    "    elif value == '55-64':\n",
    "        return 59.5\n",
    "    elif value == '65-74':\n",
    "        return 69.5\n",
    "    elif value == '75 and older':\n",
    "        return 77\n",
    "    else:\n",
    "        return np.nan\n",
    "\n",
    "# Apply the function to your column_data\n",
    "age_data = column_data.map(map_age_to_average)\n",
    "# Calculate the average age\n",
    "average_age = age_data.mean().astype(int)\n",
    "# Calculate the average age\n",
    "median_age = age_data.median().astype(int)\n",
    "\n",
    "display(Markdown(f\" - Out of **{sample_size}** respondants, the average respondant age is: **{average_age}** and the median age is: **{median_age}**.\"))\n",
    "\n",
    "### Identify Text Section ###\n",
    "\n",
    "# Gender question.\n",
    "question = all_responses.columns[77]\n",
    "\n",
    "# Calculate percentage of each answer excluding nulls\n",
    "summary = (all_responses[question][all_responses[question] != 'Prefer not to answer'].dropna().value_counts(normalize=True) * 100)\n",
    "\n",
    "# Formatting the output in Markdown\n",
    "markdown_text = \"- Of these respondants, they identify as:\\n\"\n",
    "for i, (key, value) in enumerate(summary.items(), 1):\n",
    "    markdown_text += f\"    - \\\"{key}\\\" ({round(value)}%)\\n\"\n",
    "\n",
    "display(Markdown(markdown_text))\n",
    "\n",
    "### Income Section ###\n",
    "\n",
    "# Income Question\n",
    "question = all_responses.columns[81]\n",
    "column_data = all_responses[question].loc[all_responses[question] != 'Prefer not to answer'].dropna()\n",
    "\n",
    "# Define the function to map income ranges to their midpoints\n",
    "def map_income_to_midpoint(value):\n",
    "    if value == 'Under $20,000':\n",
    "        return 20000\n",
    "    elif value == '$20,000 - $34,999':\n",
    "        return (20000 + 34999) / 2\n",
    "    elif value == '$35,000 - $49,999':\n",
    "        return (35000 + 49999) / 2\n",
    "    elif value == '$50,000 - $64,999':\n",
    "        return (50000 + 64999) / 2\n",
    "    elif value == '$65,000 - $79,999':\n",
    "        return (65000 + 79999) / 2\n",
    "    elif value == '$80,000 - $99,999':\n",
    "        return (80000 + 99999) / 2\n",
    "    elif value == '$100,000 - $124,999':\n",
    "        return (100000 + 124999) / 2\n",
    "    elif value == '$125,000 - $149,999':\n",
    "        return (125000 + 149999) / 2\n",
    "    elif value == '$150,000 - $174,999':\n",
    "        return (150000 + 174999) / 2\n",
    "    elif value == '$175,000 - $199,999':\n",
    "        return (175000 + 199999) / 2\n",
    "    elif value == 'Over $200,000':\n",
    "        return 200000\n",
    "    else:\n",
    "        return np.nan\n",
    "\n",
    "# Apply the function to the column data\n",
    "income_data = column_data.map(map_income_to_midpoint)\n",
    "# Calculate the average income\n",
    "average_income = income_data.mean().astype(int)\n",
    "# Calculate the median income\n",
    "median_income = income_data.median().astype(int)\n",
    "# Total count of responses\n",
    "total_responses = income_data.dropna().count()\n",
    "# Format the average and median income for readability with $ and commas\n",
    "formatted_average_income = \"\\${:,.0f}\".format(average_income)\n",
    "formatted_median_income = \"\\${:,.0f}\".format(median_income)\n",
    "\n",
    "## Break down by age group. ##\n",
    "\n",
    "age_question = all_responses.columns[76]\n",
    "\n",
    "# Recreate filtered_responses DataFrame excluding 'Prefer not to answer'\n",
    "filtered_responses = all_responses.loc[(all_responses[age_question] != 'Prefer not to answer') & \n",
    "                                        (all_responses[question] != 'Prefer not to answer')]\n",
    "\n",
    "# Apply categorization and mapping for income midpoint again if necessary\n",
    "filtered_responses['income_midpoint'] = filtered_responses[question].map(map_income_to_midpoint)\n",
    "# Convert age_range to a categorical type with the specified order\n",
    "filtered_responses['age_range'] = pd.Categorical(filtered_responses[all_responses.columns[76]], categories=categories, ordered=True)\n",
    "\n",
    "# Now group by the 'age_range' with the specified order\n",
    "statistics = filtered_responses.groupby('age_range', observed=True)['income_midpoint'].agg(['mean', 'median', 'count']).dropna()\n",
    "\n",
    "# First part of the markdown about average and median income\n",
    "markdown_part1 = f\"- The average household income is: **{formatted_average_income}** and the median household income is: **{formatted_median_income}** (From {total_responses} responses).\"\n",
    "\n",
    "# Generating the second part with the breakdown by age group\n",
    "markdown_part2 = \"\"\n",
    "for age, row in statistics.iterrows():\n",
    "    avg_income = \"\\${:,.0f}\".format(row['mean'])\n",
    "    median_income = \"\\${:,.0f}\".format(row['median'])\n",
    "    responses = row['count'].astype(int)\n",
    "    markdown_part2 += f\"  - For ages **{age}** the average household income is **\\{avg_income}**, the median household income is **\\{median_income}** (From {responses} responses.)\\n\"\n",
    "\n",
    "# Combine the two parts into a single Markdown display, with the second part indented as a sub-list\n",
    "combined_markdown = markdown_part1 + \"\\n\" + markdown_part2\n",
    "display(Markdown(combined_markdown))"
   ]
  },
  {
   "cell_type": "code",
   "execution_count": 5,
   "id": "8f9bb61c-230e-4a68-bac2-eb9d9e8f1d8e",
   "metadata": {},
   "outputs": [],
   "source": [
    "#%%capture\n",
    "# !jupyter nbconvert --to webpdf Yarn_survey.ipynb --output All_PDF_Export --output-dir ./PDF --no-input"
   ]
  },
  {
   "cell_type": "code",
   "execution_count": 6,
   "id": "aba553f0-6b35-4010-93d0-40ae681dda61",
   "metadata": {},
   "outputs": [
    {
     "data": {
      "image/png": "[encoded data removed]",
      "text/plain": [
       "<IPython.core.display.Image object>"
      ]
     },
     "metadata": {},
     "output_type": "display_data"
    },
    {
     "data": {
      "text/markdown": [
       "- Of the respondents, their employment statuses are as follows:\n",
       "    - \"Retired\" (48%)\n",
       "    - \"Employed full-time\" (31%)\n",
       "    - \"Employed part-time\" (11%)\n",
       "    - \"Full-time homemaker\" (7%)\n",
       "    - \"Looking for a job\" (1%)\n",
       "    - \"Student\" (1%)\n",
       "    - \"Under-employed\" (1%)\n"
      ],
      "text/plain": [
       "<IPython.core.display.Markdown object>"
      ]
     },
     "metadata": {},
     "output_type": "display_data"
    }
   ],
   "source": [
    "### Employment ###\n",
    "question = all_responses.columns[78]\n",
    "\n",
    "column_data = all_responses[question].loc[all_responses[question] != 'Prefer not to answer'].dropna()\n",
    "sample_size = column_data.shape[0]\n",
    "\n",
    "# Calculate counts and percentages\n",
    "value_counts = column_data.value_counts().reset_index()\n",
    "value_counts.columns = ['Category', 'Count']\n",
    "percentages = column_data.value_counts(normalize=True).mul(100).round(1).reset_index()\n",
    "percentages.columns = ['Category', 'Percentage']\n",
    "# Merge counts with percentages\n",
    "summary_df = pd.merge(value_counts, percentages, on='Category')\n",
    "\n",
    "# Create a bar graph with percentages above bars\n",
    "fig = px.bar(summary_df, x='Category', y='Count', title='Employment Status',\n",
    "             text='Percentage', color_discrete_sequence=['#242B64'])\n",
    "\n",
    "# Customization for displaying percentages\n",
    "fig.update_traces(texttemplate='%{text}%', textposition='outside')\n",
    "\n",
    "# Customization for layout\n",
    "fig.update_layout(\n",
    "    xaxis_title='Category',\n",
    "    yaxis_title='Count',\n",
    "    plot_bgcolor='white',\n",
    "    paper_bgcolor='white',\n",
    "    uniformtext_minsize=8,  # Adjust text size if needed\n",
    "    uniformtext_mode='hide',\n",
    "    height=600,  # Increase height to provide more space\n",
    "    width=800,\n",
    "    margin=dict(t=100)  # Add more top margin for padding\n",
    ")\n",
    "\n",
    "# Show the figure\n",
    "fig.write_image(\"./IMG/employment.png\")\n",
    "display(Image(filename=\"./IMG/employment.png\"))\n",
    "\n",
    "summary = (all_responses[question][all_responses[question] != 'Prefer not to answer'].dropna().value_counts(normalize=True) * 100)\n",
    "\n",
    "# Formatting the output as a numbered list\n",
    "markdown_text = \"- Of the respondents, their employment statuses are as follows:\\n\"\n",
    "for i, (key, value) in enumerate(summary.items(), 1):\n",
    "    markdown_text += f\"    - \\\"{key}\\\" ({round(value)}%)\\n\"\n",
    "\n",
    "display(Markdown(markdown_text))"
   ]
  },
  {
   "cell_type": "code",
   "execution_count": 7,
   "id": "38eeeb90-906b-4780-b3fb-38595477399d",
   "metadata": {},
   "outputs": [
    {
     "data": {
      "image/png": "[encoded data removed]",
      "text/plain": [
       "<IPython.core.display.Image object>"
      ]
     },
     "metadata": {},
     "output_type": "display_data"
    },
    {
     "data": {
      "text/markdown": [
       "- Of those who responded 'Employed Full-Time', their age ranges are as follows:\n",
       "    - \"55-64\" (31.7%)\n",
       "    - \"45-54\" (26.4%)\n",
       "    - \"35-44\" (21.3%)\n",
       "    - \"25-34\" (10.4%)\n",
       "    - \"65-74\" (8.0%)\n",
       "    - \"75 and older\" (0.9%)\n",
       "    - \"18-24\" (0.7%)\n"
      ],
      "text/plain": [
       "<IPython.core.display.Markdown object>"
      ]
     },
     "metadata": {},
     "output_type": "display_data"
    },
    {
     "data": {
      "image/png": "[encoded data removed]",
      "text/plain": [
       "<IPython.core.display.Image object>"
      ]
     },
     "metadata": {},
     "output_type": "display_data"
    },
    {
     "data": {
      "text/markdown": [
       "- Of those who responded 'Retired', their age ranges are as follows:\n",
       "    - \"65-74\" (55.3%)\n",
       "    - \"75 and older\" (22.1%)\n",
       "    - \"55-64\" (19.5%)\n",
       "    - \"45-54\" (1.9%)\n",
       "    - \"25-34\" (0.1%)\n",
       "    - \"35-44\" (0.1%)\n",
       "    - \"18-24\" (0.0%)\n"
      ],
      "text/plain": [
       "<IPython.core.display.Markdown object>"
      ]
     },
     "metadata": {},
     "output_type": "display_data"
    }
   ],
   "source": [
    "# Assuming all_responses is your DataFrame\n",
    "age_column = all_responses.columns[76]\n",
    "employment_status_column = all_responses.columns[78]\n",
    "\n",
    "# Filter for 'Employed full-time'\n",
    "employed_full_time = all_responses[all_responses[employment_status_column] == 'Employed full-time']\n",
    "\n",
    "# Filter based on age range\n",
    "age_data = employed_full_time[age_column].dropna()\n",
    "\n",
    "# Calculate counts and percentages\n",
    "value_counts = age_data.value_counts().reset_index()\n",
    "value_counts.columns = ['Category', 'Count']\n",
    "percentages = age_data.value_counts(normalize=True).mul(100).round(1).reset_index()\n",
    "percentages.columns = ['Category', 'Percentage']\n",
    "\n",
    "# Merge counts with percentages\n",
    "summary_df = pd.merge(value_counts, percentages, on='Category')\n",
    "\n",
    "# Define the age categories in ascending order\n",
    "categories = ['Under 18', '18-24', '25-34', '35-44', '45-54', '55-64', '65-74', '75 and older']\n",
    "\n",
    "# Convert 'Category' into an ordered categorical type\n",
    "summary_df['Category'] = pd.Categorical(summary_df['Category'], categories=categories, ordered=True)\n",
    "summary_df = summary_df.sort_values('Category')\n",
    "\n",
    "# Create a bar graph with percentages above bars\n",
    "fig = px.bar(summary_df, x='Category', y='Count', title='\"Employed Full-Time\" by Age Range',\n",
    "             text='Percentage', color_discrete_sequence=['#242B64'])\n",
    "\n",
    "# Customization for displaying percentages\n",
    "fig.update_traces(texttemplate='%{text}%', textposition='outside')\n",
    "\n",
    "# Customization for layout\n",
    "fig.update_layout(\n",
    "    xaxis_title='Age Range',\n",
    "    yaxis_title='Count of Employed Full-Time',\n",
    "    plot_bgcolor='white',\n",
    "    paper_bgcolor='white',\n",
    "    uniformtext_minsize=8,\n",
    "    uniformtext_mode='hide',\n",
    "    height=600,\n",
    "    width=750,\n",
    "    margin=dict(t=100)\n",
    ")\n",
    "\n",
    "# Save and display the figure\n",
    "fig.write_image(\"./IMG/employed_full_time_by_age.png\")\n",
    "display(Image(filename=\"./IMG/employed_full_time_by_age.png\"))\n",
    "\n",
    "\n",
    "# Sort summary_df by 'Percentage' in descending order for display\n",
    "summary_df_sorted = summary_df.sort_values('Percentage', ascending=False).dropna()\n",
    "\n",
    "markdown_text = \"- Of those who responded 'Employed Full-Time', their age ranges are as follows:\\n\"\n",
    "for row in summary_df_sorted.itertuples():\n",
    "    age_group = row.Category\n",
    "    percentage = row.Percentage\n",
    "    # Ensure each line is indented under the introductory sentence\n",
    "    markdown_text += f\"    - \\\"{age_group}\\\" ({percentage}%)\\n\"\n",
    "\n",
    "display(Markdown(markdown_text))\n",
    "\n",
    "# Filter for 'Retired'\n",
    "retired = all_responses[all_responses[employment_status_column] == 'Retired']\n",
    "\n",
    "# Filter based on age range\n",
    "age_data = retired[age_column].dropna()\n",
    "\n",
    "# Calculate counts and percentages\n",
    "value_counts = age_data.value_counts().reset_index()\n",
    "value_counts.columns = ['Category', 'Count']\n",
    "percentages = age_data.value_counts(normalize=True).mul(100).round(1).reset_index()\n",
    "percentages.columns = ['Category', 'Percentage']\n",
    "\n",
    "# Merge counts with percentages\n",
    "summary_df = pd.merge(value_counts, percentages, on='Category')\n",
    "\n",
    "# Define the age categories in ascending order\n",
    "categories = ['Under 18', '18-24', '25-34', '35-44', '45-54', '55-64', '65-74', '75 and older']\n",
    "\n",
    "# Convert 'Category' into an ordered categorical type\n",
    "summary_df['Category'] = pd.Categorical(summary_df['Category'], categories=categories, ordered=True)\n",
    "summary_df = summary_df.sort_values('Category')\n",
    "\n",
    "# Create a bar graph with percentages above bars\n",
    "fig = px.bar(summary_df, x='Category', y='Count', title='\"Retired\" by Age Range',\n",
    "             text='Percentage', color_discrete_sequence=['#242B64'])\n",
    "\n",
    "# Customization for displaying percentages\n",
    "fig.update_traces(texttemplate='%{text}%', textposition='outside')\n",
    "\n",
    "# Customization for layout\n",
    "fig.update_layout(\n",
    "    xaxis_title='Age Range',\n",
    "    yaxis_title='Count of Retired',\n",
    "    plot_bgcolor='white',\n",
    "    paper_bgcolor='white',\n",
    "    uniformtext_minsize=8,\n",
    "    uniformtext_mode='hide',\n",
    "    height=600,\n",
    "    width=750,\n",
    "    margin=dict(t=100)\n",
    ")\n",
    "\n",
    "# Save and display the figure\n",
    "fig.write_image(\"./IMG/retired_by_age.png\")\n",
    "display(Image(filename=\"./IMG/retired_by_age.png\"))\n",
    "\n",
    "\n",
    "# Sort summary_df by 'Percentage' in descending order for display\n",
    "summary_df_sorted = summary_df.sort_values('Percentage', ascending=False).dropna()\n",
    "\n",
    "markdown_text = \"- Of those who responded 'Retired', their age ranges are as follows:\\n\"\n",
    "for row in summary_df_sorted.itertuples():\n",
    "    age_group = row.Category\n",
    "    percentage = row.Percentage\n",
    "    # Ensure each line is indented under the introductory sentence\n",
    "    markdown_text += f\"    - \\\"{age_group}\\\" ({percentage}%)\\n\"\n",
    "\n",
    "display(Markdown(markdown_text))\n"
   ]
  },
  {
   "cell_type": "code",
   "execution_count": 35,
   "id": "5b7142bf-9f24-4626-abea-6eb6b5e83b65",
   "metadata": {},
   "outputs": [],
   "source": [
    "# Function to number to string\n",
    "def assign_count(value):\n",
    "    if value == '10+':\n",
    "        return 10\n",
    "    else:\n",
    "        return value\n",
    "\n",
    "# Function to assign middle value\n",
    "def assign_middle_price(value):\n",
    "    if value == '$200 +':\n",
    "        return 200\n",
    "    elif value == '$0':\n",
    "        return 0\n",
    "    else:\n",
    "        low, high = value.replace('$', '').split(' - ')\n",
    "        return (int(low) + int(high)) // 2\n",
    "\n",
    "# Combining all the columns into one dataframe\n",
    "share_of_wallet = pd.concat([all_responses[[all_responses.columns[21], all_responses.columns[22], all_responses.columns[23], all_responses.columns[24]]]], axis=1)\n",
    "\n",
    "# Apply assign_count to first and third columns\n",
    "share_of_wallet.iloc[:, [0, 2]] = share_of_wallet.iloc[:, [0, 2]].apply(lambda x: x.apply(lambda y: assign_count(y) if pd.notnull(y) else y))\n",
    "\n",
    "\n",
    "# Apply assign_middle_price to second and fourth columns\n",
    "share_of_wallet.iloc[:, [1, 3]] = share_of_wallet.iloc[:, [1, 3]].apply(lambda x: x.apply(lambda y: assign_middle_price(y) if pd.notnull(y) else y))\n",
    "\n"
   ]
  },
  {
   "cell_type": "code",
   "execution_count": 36,
   "id": "d7b4d750-0bda-4f1a-991f-f771a4097326",
   "metadata": {},
   "outputs": [
    {
     "data": {
      "text/plain": [
       "0       NaN\n",
       "1        10\n",
       "2         1\n",
       "3         5\n",
       "4         5\n",
       "       ... \n",
       "7553      2\n",
       "7554      3\n",
       "7555    NaN\n",
       "7556      6\n",
       "7557      1\n",
       "Name: How many times do you make an *in-store* yarn related purchase each year?, Length: 7558, dtype: object"
      ]
     },
     "execution_count": 36,
     "metadata": {},
     "output_type": "execute_result"
    }
   ],
   "source": [
    "share_of_wallet.iloc[:, 0]"
   ]
  },
  {
   "cell_type": "code",
   "execution_count": 37,
   "id": "0af1b1bf-33b5-4b84-b683-b108988b7e6e",
   "metadata": {},
   "outputs": [
    {
     "name": "stdout",
     "output_type": "stream",
     "text": [
      "4.699985014236475\n"
     ]
    }
   ],
   "source": [
    "print(share_of_wallet.iloc[:, 0].astype(float).mean())"
   ]
  },
  {
   "cell_type": "code",
   "execution_count": null,
   "id": "fbbae955-2949-421b-be11-868b634cba13",
   "metadata": {},
   "outputs": [],
   "source": [
    "# Question\n",
    "question = all_responses.columns[4]\n",
    "column_data = all_responses[question].dropna()\n",
    "sample_size = column_data.shape[0]\n",
    "display(Markdown(f\"### Question: {question} *(N = {sample_size})*\"))\n",
    "print(\"\\n\")\n",
    "\n",
    "# Calculate number of responses/percentages using column_data\n",
    "counts = column_data.value_counts()\n",
    "percentages = column_data.value_counts(normalize=True).mul(100).round(1)\n",
    "\n",
    "# Create DataFrame with the results\n",
    "summary_df = pd.DataFrame({'Answer': counts.index, 'Responses': counts.values, 'Percentage': percentages.values})\n",
    "\n",
    "# Create Plotly table\n",
    "table = ff.create_table(summary_df)\n",
    "table.update_layout(width=600)\n",
    "table.show()\n"
   ]
  },
  {
   "cell_type": "code",
   "execution_count": null,
   "id": "3f929aad-3344-4423-9a15-a451867157a6",
   "metadata": {},
   "outputs": [],
   "source": [
    "print(\"\\n\" * 4)"
   ]
  },
  {
   "cell_type": "code",
   "execution_count": null,
   "id": "d11e64a6-4ae3-4ddc-8c63-50a0cf69a730",
   "metadata": {},
   "outputs": [],
   "source": [
    "# Question\n",
    "question = all_responses.columns[5]\n",
    "column_data = all_responses[question].dropna()\n",
    "sample_size = column_data.shape[0]\n",
    "display(Markdown(f\"### Question: {question} *(N = {sample_size})*\"))\n",
    "print(\"\\n\")\n",
    "\n",
    "# Calculate number of responses/percentages using column_data\n",
    "counts = column_data.value_counts()\n",
    "percentages = column_data.value_counts(normalize=True).mul(100).round(1)\n",
    "\n",
    "# Create DataFrame with the results\n",
    "summary_df = pd.DataFrame({'Answer': counts.index, 'Responses': counts.values, 'Percentage': percentages.values})\n",
    "\n",
    "# Create Plotly table\n",
    "table = ff.create_table(summary_df)\n",
    "table.update_layout(width=600)\n",
    "table.show()\n"
   ]
  },
  {
   "cell_type": "code",
   "execution_count": null,
   "id": "da250f8d-8503-46c0-8221-cdbed71227f7",
   "metadata": {},
   "outputs": [],
   "source": [
    "print(\"\\n\" * 4)"
   ]
  },
  {
   "cell_type": "code",
   "execution_count": null,
   "id": "80234d5d-9a60-4958-8781-a1c1ab2954b3",
   "metadata": {},
   "outputs": [],
   "source": [
    "# How often do you crochet?\n",
    "question = all_responses.columns[6]\n",
    "summary, sample_size = summarize_column(all_responses, question)\n",
    "\n",
    "print(f'Question: {question} (Sample Size: n = {sample_size})')\n",
    "display(summary)"
   ]
  },
  {
   "cell_type": "code",
   "execution_count": null,
   "id": "4705365c-2477-415f-a117-0784529d7a00",
   "metadata": {},
   "outputs": [],
   "source": [
    "print(\"\\n\" * 4)"
   ]
  },
  {
   "cell_type": "code",
   "execution_count": null,
   "id": "4d8e135d-3c1e-42a8-aacb-07c077363279",
   "metadata": {},
   "outputs": [],
   "source": [
    "# Do you knit?\n",
    "question = all_responses.columns[7]\n",
    "summary, sample_size = summarize_column(all_responses, question)\n",
    "\n",
    "print(f'Question: {question} (Sample Size: n = {sample_size})')\n",
    "display(summary)"
   ]
  },
  {
   "cell_type": "code",
   "execution_count": null,
   "id": "acb050d3-8949-41b0-8e69-b6cdc1f13b7c",
   "metadata": {},
   "outputs": [],
   "source": [
    "print(\"\\n\" * 4)"
   ]
  },
  {
   "cell_type": "code",
   "execution_count": null,
   "id": "46946288-301a-480a-9641-982ffb8ee3c7",
   "metadata": {},
   "outputs": [],
   "source": [
    "# What is your current skill level in knitting?\n",
    "question = all_responses.columns[8]\n",
    "summary, sample_size = summarize_column(all_responses, question)\n",
    "\n",
    "print(f'Question: {question} (Sample Size: n = {sample_size})')\n",
    "display(summary)"
   ]
  },
  {
   "cell_type": "code",
   "execution_count": null,
   "id": "fe243660-8ea2-4793-8125-e1142d9e6a40",
   "metadata": {},
   "outputs": [],
   "source": [
    "print(\"\\n\" * 4)"
   ]
  },
  {
   "cell_type": "code",
   "execution_count": null,
   "id": "5bf52e7b-0456-4d5f-81a6-420ba0193921",
   "metadata": {},
   "outputs": [],
   "source": [
    "# How often do you knit?\n",
    "question = all_responses.columns[9]\n",
    "summary, sample_size = summarize_column(all_responses, question)\n",
    "\n",
    "print(f'Question: {question} (Sample Size: n = {sample_size})')\n",
    "display(summary)"
   ]
  },
  {
   "cell_type": "code",
   "execution_count": null,
   "id": "f791a20c-eca9-45ac-8ae4-6838c7e9e1f2",
   "metadata": {},
   "outputs": [],
   "source": [
    "print(\"\\n\" * 4)"
   ]
  },
  {
   "cell_type": "code",
   "execution_count": null,
   "id": "01a87e12-0edd-499e-95c5-36354065dfdd",
   "metadata": {},
   "outputs": [],
   "source": [
    "# Do you participate in yarn crafts besides crochet or knitting?\n",
    "question = all_responses.columns[10]\n",
    "summary, sample_size = summarize_column(all_responses, question)\n",
    "\n",
    "print(f'Question: {question} (Sample Size: n = {sample_size})')\n",
    "display(summary)"
   ]
  },
  {
   "cell_type": "code",
   "execution_count": null,
   "id": "35c0aa8a-76e2-4a10-a16f-f4796b5405ab",
   "metadata": {},
   "outputs": [],
   "source": [
    "print(\"\\n\" * 4)"
   ]
  },
  {
   "cell_type": "code",
   "execution_count": null,
   "id": "7e6eee78-55d7-4a1b-9c52-583dab058240",
   "metadata": {},
   "outputs": [],
   "source": [
    "# Which yarn craft do you participate in?\n",
    "\n",
    "# Case sensitive, cast lower case. \n",
    "all_responses.iloc[:, 11] = all_responses.iloc[:, 11].str.lower()\n",
    "# Reset null values.\n",
    "all_responses.iloc[:, 11] = all_responses.iloc[:, 11].astype(str).str.lower().replace('nan', np.nan)\n",
    "\n",
    "# Do you participate in yarn crafts besides crochet or knitting?\n",
    "question = all_responses.columns[11]\n",
    "summary, sample_size = summarize_column(all_responses, question)\n",
    "\n",
    "print(f'Question: {question} (Sample Size: n = {sample_size})')\n",
    "display(summary.head(10))"
   ]
  },
  {
   "cell_type": "code",
   "execution_count": null,
   "id": "a465520f-02de-4a35-86d8-e3e668d5c0ab",
   "metadata": {},
   "outputs": [],
   "source": [
    "print(\"\\n\" * 4)"
   ]
  },
  {
   "cell_type": "code",
   "execution_count": null,
   "id": "9314f978-3563-42bd-82bc-4695dbc6a822",
   "metadata": {},
   "outputs": [],
   "source": [
    "# What is your current skill level in this yarn craft?\t\n",
    "question = all_responses.columns[12]\n",
    "summary, sample_size = summarize_column(all_responses, question)\n",
    "\n",
    "print(f'Question: {question} (Sample Size: n = {sample_size})')\n",
    "display(summary)"
   ]
  },
  {
   "cell_type": "code",
   "execution_count": null,
   "id": "7021a6d9-a1c8-447c-9bac-891a04162342",
   "metadata": {},
   "outputs": [],
   "source": [
    "print(\"\\n\" * 4)"
   ]
  },
  {
   "cell_type": "code",
   "execution_count": null,
   "id": "d981abc2-b489-41f6-839b-c8089ecd9bb8",
   "metadata": {},
   "outputs": [],
   "source": [
    "# How often do you you participate in this yarn craft?\n",
    "question = all_responses.columns[13]\n",
    "summary, sample_size = summarize_column(all_responses, question)\n",
    "\n",
    "print(f'Question: {question} (Sample Size: n = {sample_size})')\n",
    "display(summary)"
   ]
  },
  {
   "cell_type": "code",
   "execution_count": null,
   "id": "01dddc45-6179-4b5e-9fc3-9933491391c0",
   "metadata": {},
   "outputs": [],
   "source": [
    "print(\"\\n\" * 4)"
   ]
  },
  {
   "cell_type": "code",
   "execution_count": null,
   "id": "d803ecff-27be-4302-9974-929b6834fccc",
   "metadata": {},
   "outputs": [],
   "source": [
    "# How do you most often purchase *yarn*?\t\n",
    "question = all_responses.columns[14]\n",
    "summary, sample_size = summarize_column(all_responses, question)\n",
    "\n",
    "print(f'Question: {question} (Sample Size: n = {sample_size})')\n",
    "display(summary.head(2))"
   ]
  },
  {
   "cell_type": "code",
   "execution_count": null,
   "id": "2e3a5a67-e5eb-4c2c-a2cf-d984ceebb1e0",
   "metadata": {},
   "outputs": [],
   "source": [
    "print(\"\\n\" * 4)"
   ]
  },
  {
   "cell_type": "code",
   "execution_count": null,
   "id": "a75cc1e4-a8c6-4a8a-a484-b7fc5db47f89",
   "metadata": {},
   "outputs": [],
   "source": [
    "# Where do you most often purchase* yarn*?\t\n",
    "question = all_responses.columns[15]\n",
    "summary, sample_size = summarize_column(all_responses, question)\n",
    "\n",
    "print(f'Question: {question} (Sample Size: n = {sample_size})')\n",
    "display(summary.head(7))"
   ]
  },
  {
   "cell_type": "code",
   "execution_count": null,
   "id": "bf259f19-2253-4ae9-ab35-03dcfa8b30e6",
   "metadata": {},
   "outputs": [],
   "source": [
    "print(\"\\n\" * 4)"
   ]
  },
  {
   "cell_type": "code",
   "execution_count": null,
   "id": "f118bbcf-b445-4659-ab93-9391867ff5b2",
   "metadata": {},
   "outputs": [],
   "source": [
    "# How do you most often purchase yarn *tools & accessories*?\n",
    "question = all_responses.columns[16]\n",
    "summary, sample_size = summarize_column(all_responses, question)\n",
    "\n",
    "print(f'Question: {question} (Sample Size: n = {sample_size})')\n",
    "display(summary.head(2))"
   ]
  },
  {
   "cell_type": "code",
   "execution_count": null,
   "id": "2cf5e559-33e7-4710-a9ac-6f4be442005f",
   "metadata": {},
   "outputs": [],
   "source": [
    "print(\"\\n\" * 4)"
   ]
  },
  {
   "cell_type": "code",
   "execution_count": null,
   "id": "8a8ca6c1-13f9-4213-abbb-d445481bf959",
   "metadata": {},
   "outputs": [],
   "source": [
    "# Where do you most often purchase *tools & accessories*?\n",
    "question = all_responses.columns[17]\n",
    "summary, sample_size = summarize_column(all_responses, question)\n",
    "\n",
    "print(f'Question: {question} (Sample Size: n = {sample_size})')\n",
    "display(summary.head(7))"
   ]
  },
  {
   "cell_type": "code",
   "execution_count": null,
   "id": "bf315778-3e90-4d7e-b61d-3ad7a5df4f4c",
   "metadata": {},
   "outputs": [],
   "source": [
    "print(\"\\n\" * 4)"
   ]
  },
  {
   "cell_type": "code",
   "execution_count": null,
   "id": "4271dbe7-26e8-4bee-b4c9-611e9de41ee1",
   "metadata": {},
   "outputs": [],
   "source": [
    "# How do you most often purchase *patterns*?\n",
    "question = all_responses.columns[18]\n",
    "summary, sample_size = summarize_column(all_responses, question)\n",
    "\n",
    "print(f'Question: {question} (Sample Size: n = {sample_size})')\n",
    "display(summary.head(2))"
   ]
  },
  {
   "cell_type": "code",
   "execution_count": null,
   "id": "8cc6a23a-2c0d-4973-9cb9-11d87f0dbb81",
   "metadata": {},
   "outputs": [],
   "source": [
    "print(\"\\n\" * 4)"
   ]
  },
  {
   "cell_type": "code",
   "execution_count": null,
   "id": "864d4234-4de2-4453-8daa-7136a5a8a396",
   "metadata": {},
   "outputs": [],
   "source": [
    "# Where do you most often purchase *patterns*?\n",
    "question = all_responses.columns[19]\n",
    "summary, sample_size = summarize_column(all_responses, question)\n",
    "\n",
    "print(f'Question: {question} (Sample Size: n = {sample_size})')\n",
    "display(summary.head(6))"
   ]
  },
  {
   "cell_type": "code",
   "execution_count": null,
   "id": "8e8ac853-9ed6-48c6-9b99-409de97bb6e1",
   "metadata": {},
   "outputs": [],
   "source": [
    "print(\"\\n\" * 4)"
   ]
  },
  {
   "cell_type": "code",
   "execution_count": null,
   "id": "b915ee00-856e-47f8-bf0d-fbc226bbbaa3",
   "metadata": {},
   "outputs": [],
   "source": [
    "# How have your yarn shopping habits changed over time?\n",
    "question = all_responses.columns[20]\n",
    "summary, sample_size = summarize_column(all_responses, question)\n",
    "\n",
    "print(f'Question: {question} (Sample Size: n = {sample_size})')\n",
    "display(summary)"
   ]
  },
  {
   "cell_type": "code",
   "execution_count": null,
   "id": "b8ab725a-576f-4b5b-8914-3033fbfd93c0",
   "metadata": {},
   "outputs": [],
   "source": [
    "print(\"\\n\" * 4)"
   ]
  },
  {
   "cell_type": "code",
   "execution_count": null,
   "id": "150017d7-2903-42ab-b93e-60b9f5e7d04b",
   "metadata": {},
   "outputs": [],
   "source": [
    "# How many times do you make an *in-store* yarn related purchase each year?\n",
    "question = all_responses.columns[21]\n",
    "summary, sample_size = summarize_column(all_responses, question)\n",
    "\n",
    "print(f'Question: {question} (Sample Size: n = {sample_size})')\n",
    "display(summary)"
   ]
  },
  {
   "cell_type": "code",
   "execution_count": null,
   "id": "b18d1f6b-c385-4a11-917e-cd47b5b7af9c",
   "metadata": {},
   "outputs": [],
   "source": [
    "print(\"\\n\" * 4)"
   ]
  },
  {
   "cell_type": "code",
   "execution_count": null,
   "id": "3f56072d-c30a-4be5-93bf-4570fd69f8a9",
   "metadata": {},
   "outputs": [],
   "source": [
    "# How much do you typically spend per *in-store* purchase?\n",
    "question = all_responses.columns[22]\n",
    "summary, sample_size = summarize_column(all_responses, question)\n",
    "\n",
    "print(f'Question: {question} (Sample Size: n = {sample_size})')\n",
    "display(summary)"
   ]
  },
  {
   "cell_type": "code",
   "execution_count": null,
   "id": "dc6a22a2-0e1a-4606-b56b-ed06708cfe5b",
   "metadata": {},
   "outputs": [],
   "source": [
    "print(\"\\n\" * 4)"
   ]
  },
  {
   "cell_type": "code",
   "execution_count": null,
   "id": "4f298fd6-d8a9-4ecc-a88c-92f8320b02bf",
   "metadata": {},
   "outputs": [],
   "source": [
    "# How many times do you make an *online* yarn related purchase each year?\n",
    "question = all_responses.columns[23]\n",
    "summary, sample_size = summarize_column(all_responses, question)\n",
    "\n",
    "print(f'Question: {question} (Sample Size: n = {sample_size})')\n",
    "display(summary)"
   ]
  },
  {
   "cell_type": "code",
   "execution_count": null,
   "id": "b7c9626a-11b9-4f46-9427-2fe52748023f",
   "metadata": {},
   "outputs": [],
   "source": [
    "print(\"\\n\" * 4)"
   ]
  },
  {
   "cell_type": "code",
   "execution_count": null,
   "id": "30991107-af6e-40a9-8056-c6b59d915d5b",
   "metadata": {},
   "outputs": [],
   "source": [
    "# How much do you typically spend per *online* purchase?\n",
    "question = all_responses.columns[24]\n",
    "summary, sample_size = summarize_column(all_responses, question)\n",
    "\n",
    "print(f'Question: {question} (Sample Size: n = {sample_size})')\n",
    "display(summary)"
   ]
  },
  {
   "cell_type": "code",
   "execution_count": null,
   "id": "83783a51-42dd-4d19-86e7-7cbbd8788091",
   "metadata": {},
   "outputs": [],
   "source": [
    "print(\"\\n\" * 4)"
   ]
  },
  {
   "cell_type": "code",
   "execution_count": null,
   "id": "1ccd99d3-6815-496e-bb60-58f4208012ab",
   "metadata": {},
   "outputs": [],
   "source": [
    "# Where did you receive this survey from?\n",
    "question = all_responses.columns[25]\n",
    "summary, sample_size = summarize_column(all_responses, question)\n",
    "\n",
    "print(f'Question: {question} (Sample Size: n = {sample_size})')\n",
    "display(summary)"
   ]
  },
  {
   "cell_type": "code",
   "execution_count": null,
   "id": "068b8338-3940-4d0f-b93d-c22264aac3ac",
   "metadata": {},
   "outputs": [],
   "source": [
    "print(\"\\n\" * 4)"
   ]
  },
  {
   "cell_type": "code",
   "execution_count": null,
   "id": "96aee7bc-611a-4c34-bfa7-f9b5dcad3a71",
   "metadata": {},
   "outputs": [],
   "source": [
    "# How did you first hear about our brand?\n",
    "question = all_responses.columns[26]\n",
    "summary, sample_size = summarize_column(all_responses, question)\n",
    "\n",
    "print(f'Question: {question} (Sample Size: n = {sample_size})')\n",
    "display(summary.head(6))"
   ]
  },
  {
   "cell_type": "code",
   "execution_count": null,
   "id": "3d7e34b7-ec5f-4f7f-aa9e-58bd1390cf1c",
   "metadata": {},
   "outputs": [],
   "source": [
    "print(\"\\n\" * 4)"
   ]
  },
  {
   "cell_type": "code",
   "execution_count": null,
   "id": "0ecdd144-b2d5-4329-9f9b-1802db2aa35f",
   "metadata": {},
   "outputs": [],
   "source": [
    "# How did you first hear about our brand?\n",
    "question = all_responses.columns[27]\n",
    "summary, sample_size = summarize_column(all_responses, question)\n",
    "\n",
    "print(f'Question: {question} (Sample Size: n = {sample_size})')\n",
    "display(summary.head(8))"
   ]
  },
  {
   "cell_type": "code",
   "execution_count": null,
   "id": "c88e0d0e-6f8d-4a06-a017-1f4e996ceab8",
   "metadata": {},
   "outputs": [],
   "source": [
    "print(\"\\n\" * 4)"
   ]
  },
  {
   "cell_type": "code",
   "execution_count": null,
   "id": "a96531a2-d0d4-4fb1-84f6-d78ef1ebd003",
   "metadata": {},
   "outputs": [],
   "source": [
    "# Which brands have you heard of?\n",
    "\n",
    "# Print statement question.\n",
    "question = all_responses.columns[28]\n",
    "\n",
    "# Split previous concatenation.\n",
    "split_brands = all_responses.iloc[:, 28].str.split(', ')\n",
    "\n",
    "# Calculate the total number of rows before exploding.\n",
    "sample_size = all_responses.iloc[:, 28].notnull().sum()\n",
    "\n",
    "# Create a temporary DataFrame for exploding, to avoid modifying the original\n",
    "temp_df = pd.DataFrame({'SplitBrands': split_brands})\n",
    "temp_df = temp_df.explode('SplitBrands')\n",
    "\n",
    "# Filter out rows where 'SplitBrands' is empty or contains only whitespace\n",
    "temp_df = temp_df[temp_df['SplitBrands'].str.strip().astype(bool)]\n",
    "\n",
    "# Step 3: Count occurrences of each brand\n",
    "brand_counts = temp_df['SplitBrands'].value_counts().reset_index()\n",
    "brand_counts.columns = ['Brand', 'Count']\n",
    "\n",
    "# Step 4: Calculate the percentage of each brand's occurrence based on the original number of responses\n",
    "brand_counts['Percentage'] = ((brand_counts['Count'] / sample_size) * 100).round(1)\n",
    "\n",
    "print(f'Question: {question} (Sample Size: n = {sample_size})')\n",
    "\n",
    "display(brand_counts)  "
   ]
  },
  {
   "cell_type": "code",
   "execution_count": null,
   "id": "5e70b746-77cd-43f5-8ba2-570fe20a5a46",
   "metadata": {},
   "outputs": [],
   "source": [
    "print(\"\\n\" * 4)"
   ]
  },
  {
   "cell_type": "code",
   "execution_count": null,
   "id": "1e2a1df9-0734-4d9a-949e-228f699df703",
   "metadata": {},
   "outputs": [],
   "source": [
    "# Which brands have you purchase from?\n",
    "\n",
    "# Print statement question.\n",
    "question = all_responses.columns[29]\n",
    "\n",
    "# Split previous concatenation\n",
    "split_brands = all_responses.iloc[:, 29].str.split(', ')\n",
    "\n",
    "# Calculate the total number of rows before exploding.\n",
    "sample_size = all_responses.iloc[:, 29].notnull().sum()\n",
    "\n",
    "# Create a temporary DataFrame for exploding, to avoid modifying the original\n",
    "temp_df = pd.DataFrame({'SplitBrands': split_brands})\n",
    "temp_df = temp_df.explode('SplitBrands')\n",
    "\n",
    "# Filter out rows where 'SplitBrands' is empty or contains only whitespace\n",
    "temp_df = temp_df[temp_df['SplitBrands'].str.strip().astype(bool)]\n",
    "\n",
    "# Count occurrences of each brand\n",
    "brand_counts = temp_df['SplitBrands'].value_counts().reset_index()\n",
    "brand_counts.columns = ['Brand', 'Count']\n",
    "\n",
    "# Calculate the percentage of each brand's occurrence based on the original number of responses\n",
    "brand_counts['Percentage'] = ((brand_counts['Count'] / sample_size) * 100).round(1)\n",
    "\n",
    "print(f'Question: {question} (Sample Size: n = {sample_size})')\n",
    "\n",
    "display(brand_counts)  "
   ]
  },
  {
   "cell_type": "code",
   "execution_count": null,
   "id": "a247bb23-a265-4390-b77d-b9f4da3cedb7",
   "metadata": {},
   "outputs": [],
   "source": [
    "print(\"\\n\" * 4)"
   ]
  },
  {
   "cell_type": "code",
   "execution_count": null,
   "id": "a7460f5c-2927-43b3-9231-be9c89f431ec",
   "metadata": {},
   "outputs": [],
   "source": [
    "# What makes our yarn stand out from competitors to you?\n",
    "\n",
    "# Print statement question.\n",
    "question = all_responses.columns[30]\n",
    "#Same size.\n",
    "sample_size = all_responses.iloc[:, 30].notnull().sum()\n",
    "\n",
    "# Load English stopwords\n",
    "stop_words = set(stopwords.words('english'))\n",
    "\n",
    "# Initialize the Porter Stemmer\n",
    "stemmer = PorterStemmer()\n",
    "\n",
    "#Case sensitive, cast lower case. \n",
    "process_data = all_responses.iloc[:, 30].dropna().astype(str).str.lower()  # Lowercase conversion\n",
    "\n",
    "def clean_text(text):\n",
    "    # Tokenize\n",
    "    tokens = nltk.word_tokenize(text)\n",
    "    # Remove punctuation\n",
    "    tokens = [word for word in tokens if word.isalnum()]\n",
    "    # Remove stopwords\n",
    "    tokens = [word for word in tokens if word not in stop_words]\n",
    "    return tokens\n",
    "\n",
    "# Apply cleaning function\n",
    "tokenized_data = process_data.apply(clean_text)\n",
    "\n",
    "# Apply stemming\n",
    "stemmed_data = tokenized_data.apply(lambda x: [stemmer.stem(word) for word in x])\n",
    "\n",
    "# Flatten the list of lists for n-grams analysis\n",
    "all_words = [word for text in stemmed_data for word in text]\n",
    "\n",
    "# Generate bi-grams and tri-grams\n",
    "bi_grams = ngrams(all_words, 2)\n",
    "tri_grams = ngrams(all_words, 3)\n",
    "\n",
    "# Count and find the top 10 uni, bi, and tri-grams,\n",
    "top_unigrams = Counter(all_words).most_common(10)\n",
    "top_bi_grams = Counter(bi_grams).most_common(10)\n",
    "top_tri_grams = Counter(tri_grams).most_common(10)\n",
    "\n",
    "#Question statement\n",
    "print(f'Question: {question} (Sample Size: n = {sample_size})')\n",
    "\n",
    "# Line break\n",
    "print(\"\\n\")\n",
    "\n",
    "# Print the top 10 single word occurrences\n",
    "print(\"Top 10 Single Word Occurrences:\")\n",
    "for word, count in top_unigrams:\n",
    "    print(f\"{word}: {count}\")\n",
    "\n",
    "# Add a line break\n",
    "print(\"\\n\")\n",
    "\n",
    "print(\"Top 10 Bi-grams:\")\n",
    "for gram, count in top_bi_grams:\n",
    "    print(f\"{gram}: {count}\")\n",
    "\n",
    "# Add a line break\n",
    "print(\"\\n\")\n",
    "\n",
    "print(\"\\nTop 10 Tri-grams:\")\n",
    "for gram, count in top_tri_grams:\n",
    "    print(f\"{gram}: {count}\")"
   ]
  },
  {
   "cell_type": "code",
   "execution_count": null,
   "id": "e2f74d38-21b7-421a-9619-653b7b17a970",
   "metadata": {},
   "outputs": [],
   "source": [
    "print(\"\\n\" * 4)"
   ]
  },
  {
   "cell_type": "code",
   "execution_count": null,
   "id": "2b55afaa-fdd6-475f-900f-d40af9169b4b",
   "metadata": {},
   "outputs": [],
   "source": [
    "# Compared to other brands, how do you rate the price of our products?\n",
    "question = all_responses.columns[31]\n",
    "summary, sample_size = summarize_column(all_responses, question)\n",
    "\n",
    "print(f'Question: {question} (Sample Size: n = {sample_size})')\n",
    "display(summary)"
   ]
  },
  {
   "cell_type": "code",
   "execution_count": null,
   "id": "99dd455d-e957-4a07-bf41-4782b8276cc2",
   "metadata": {},
   "outputs": [],
   "source": [
    "print(\"\\n\" * 4)"
   ]
  },
  {
   "cell_type": "code",
   "execution_count": null,
   "id": "29682f09-e880-4773-b5eb-fc52ede3a8ca",
   "metadata": {},
   "outputs": [],
   "source": [
    "# Where do you prefer to explore or learn about new yarn products?\n",
    "question = all_responses.columns[32]\n",
    "summary, sample_size = summarize_column(all_responses, question)\n",
    "\n",
    "print(f'Question: {question} (Sample Size: n = {sample_size})')\n",
    "display(summary)"
   ]
  },
  {
   "cell_type": "code",
   "execution_count": null,
   "id": "5f789132-e036-4e12-8a0c-3d7475fcc6f7",
   "metadata": {},
   "outputs": [],
   "source": [
    "print(\"\\n\" * 4)"
   ]
  },
  {
   "cell_type": "code",
   "execution_count": null,
   "id": "5649521c-98c5-47c1-a39a-41e7a5669b51",
   "metadata": {},
   "outputs": [],
   "source": [
    "# Which social media platform do you prefer to learn about new yarn products?\n",
    "question = all_responses.columns[33]\n",
    "summary, sample_size = summarize_column(all_responses, question)\n",
    "\n",
    "print(f'Question: {question} (Sample Size: n = {sample_size})')\n",
    "display(summary.head(8))"
   ]
  },
  {
   "cell_type": "code",
   "execution_count": null,
   "id": "dc0c8390-a9ea-4ece-87c2-636c94619440",
   "metadata": {},
   "outputs": [],
   "source": [
    "print(\"\\n\" * 4)"
   ]
  },
  {
   "cell_type": "code",
   "execution_count": null,
   "id": "041a703e-ded6-4068-86d1-2e429931617b",
   "metadata": {},
   "outputs": [],
   "source": [
    "# When shopping online, what encourages you to try *new* yarn products?\n",
    "question = all_responses.columns[34]\n",
    "summary, sample_size = summarize_column(all_responses, question)\n",
    "\n",
    "print(f'Question: {question} (Sample Size: n = {sample_size})')\n",
    "display(summary.head(6))"
   ]
  },
  {
   "cell_type": "code",
   "execution_count": null,
   "id": "47e4e8b9-d8de-4c7d-af4d-547f385fcd9d",
   "metadata": {},
   "outputs": [],
   "source": [
    "print(\"\\n\" * 4)"
   ]
  },
  {
   "cell_type": "code",
   "execution_count": null,
   "id": "b0bfce7d-77b5-42fc-9c68-840cfe23113a",
   "metadata": {},
   "outputs": [],
   "source": [
    "# What products do you primarily associate with our brand?\n",
    "\n",
    "# Print statement question.\n",
    "question = all_responses.columns[35]\n",
    "#Same size.\n",
    "sample_size = all_responses.iloc[:, 35].notnull().sum()\n",
    "\n",
    "# Load English stopwords\n",
    "stop_words = set(stopwords.words('english'))\n",
    "\n",
    "# Initialize the Porter Stemmer\n",
    "stemmer = PorterStemmer()\n",
    "\n",
    "#Case sensitive, cast lower case. \n",
    "process_data = all_responses.iloc[:, 35].dropna().astype(str).str.lower()  # Lowercase conversion\n",
    "\n",
    "def clean_text(text):\n",
    "    # Tokenize\n",
    "    tokens = nltk.word_tokenize(text)\n",
    "    # Remove punctuation\n",
    "    tokens = [word for word in tokens if word.isalnum()]\n",
    "    # Remove stopwords\n",
    "    tokens = [word for word in tokens if word not in stop_words]\n",
    "    return tokens\n",
    "\n",
    "# Apply cleaning function\n",
    "tokenized_data = process_data.apply(clean_text)\n",
    "\n",
    "# Apply stemming\n",
    "stemmed_data = tokenized_data.apply(lambda x: [stemmer.stem(word) for word in x])\n",
    "\n",
    "# Flatten the list of lists for n-grams analysis\n",
    "all_words = [word for text in stemmed_data for word in text]\n",
    "\n",
    "# Generate bi-grams and tri-grams\n",
    "bi_grams = ngrams(all_words, 2)\n",
    "tri_grams = ngrams(all_words, 3)\n",
    "\n",
    "# Count and find the top 10 uni, bi, and tri-grams,\n",
    "top_unigrams = Counter(all_words).most_common(10)\n",
    "top_bi_grams = Counter(bi_grams).most_common(10)\n",
    "top_tri_grams = Counter(tri_grams).most_common(10)\n",
    "\n",
    "#Question statement\n",
    "print(f'Question: {question} (Sample Size: n = {sample_size})')\n",
    "\n",
    "# Line break\n",
    "print(\"\\n\")\n",
    "\n",
    "# Print the top 10 single word occurrences\n",
    "print(\"Top 10 Single Word Occurrences:\")\n",
    "for word, count in top_unigrams:\n",
    "    print(f\"{word}: {count}\")\n",
    "\n",
    "# Add a line break\n",
    "print(\"\\n\")\n",
    "\n",
    "print(\"Top 10 Two Word Occurrences:\")\n",
    "for gram, count in top_bi_grams:\n",
    "    print(f\"{gram}: {count}\")\n",
    "\n",
    "# Add a line break\n",
    "print(\"\\n\")\n",
    "\n",
    "print(\"\\nTop 10 Three Word Occurrences:\")\n",
    "for gram, count in top_tri_grams:\n",
    "    print(f\"{gram}: {count}\")"
   ]
  },
  {
   "cell_type": "code",
   "execution_count": null,
   "id": "1fabb2a3-a52e-4b4e-bc7d-455ffda29962",
   "metadata": {},
   "outputs": [],
   "source": [
    "print(\"\\n\" * 4)"
   ]
  },
  {
   "cell_type": "code",
   "execution_count": null,
   "id": "c176a448-40a4-41d1-8f06-d8ec38a31037",
   "metadata": {},
   "outputs": [],
   "source": [
    "#  Which of our yarn fibers do you frequently purchase?\n",
    "\n",
    "# Print statement question.\n",
    "question = all_responses.columns[36]\n",
    "\n",
    "# Remove parenthesis, they have commas.\n",
    "preprocessed = all_responses.iloc[:, 36].str.replace(r\"\\s*\\([^)]*\\)\", \"\", regex=True)\n",
    "\n",
    "# Split previous concatenation.\n",
    "split_options = preprocessed.str.split(', ')\n",
    "\n",
    "# Calculate the total number of rows before exploding.\n",
    "sample_size = all_responses.iloc[:, 36].notnull().sum()\n",
    "\n",
    "# Create a temporary DataFrame for exploding, to avoid modifying the original\n",
    "temp_df = pd.DataFrame({'Split': split_options})\n",
    "temp_df = temp_df.explode('Split')\n",
    "\n",
    "# Filter out rows where 'SplitBrands' is empty or contains only whitespace\n",
    "temp_df = temp_df[temp_df['Split'].str.strip().astype(bool)]\n",
    "\n",
    "# Step 3: Count occurrences of each brand\n",
    "option_counts = temp_df['Split'].value_counts().reset_index()\n",
    "option_counts.columns = ['Options', 'Count']\n",
    "\n",
    "# Step 4: Calculate the percentage of each brand's occurrence based on the original number of responses\n",
    "option_counts['Percentage'] = ((option_counts['Count'] / sample_size) * 100).round(1)\n",
    "\n",
    "print(f'Question: {question} (Sample Size: n = {sample_size})')\n",
    "\n",
    "display(option_counts.head(5))  "
   ]
  },
  {
   "cell_type": "code",
   "execution_count": null,
   "id": "117e62a6-6ae5-4ec5-9df8-fe567b4105a5",
   "metadata": {},
   "outputs": [],
   "source": [
    "print(\"\\n\" * 4)"
   ]
  },
  {
   "cell_type": "code",
   "execution_count": null,
   "id": "9731bad2-5a74-4646-a708-3284f2b0bf75",
   "metadata": {},
   "outputs": [],
   "source": [
    "# Which types of projects do you typically buy our yarn for?\n",
    "\n",
    "# Print statement question.\n",
    "question = all_responses.columns[37]\n",
    "\n",
    "# Remove parenthesis, they have commas.\n",
    "preprocessed = all_responses.iloc[:, 37].str.replace(r\"\\s*\\([^)]*\\)\", \"\", regex=True)\n",
    "\n",
    "# Split previous concatenation.\n",
    "split_options = preprocessed.str.split(', ')\n",
    "\n",
    "# Calculate the total number of rows before exploding.\n",
    "sample_size = all_responses.iloc[:, 37].notnull().sum()\n",
    "\n",
    "# Create a temporary DataFrame for exploding, to avoid modifying the original\n",
    "temp_df = pd.DataFrame({'Split': split_options})\n",
    "temp_df = temp_df.explode('Split')\n",
    "\n",
    "# Filter out rows where 'SplitBrands' is empty or contains only whitespace\n",
    "temp_df = temp_df[temp_df['Split'].str.strip().astype(bool)]\n",
    "\n",
    "# Step 3: Count occurrences of each brand\n",
    "option_counts = temp_df['Split'].value_counts().reset_index()\n",
    "option_counts.columns = ['Options', 'Count']\n",
    "\n",
    "# Step 4: Calculate the percentage of each brand's occurrence based on the original number of responses\n",
    "option_counts['Percentage'] = ((option_counts['Count'] / sample_size) * 100).round(1)\n",
    "\n",
    "print(f'Question: {question} (Sample Size: n = {sample_size})')\n",
    "\n",
    "display(option_counts.head(5))  "
   ]
  },
  {
   "cell_type": "code",
   "execution_count": null,
   "id": "d4515435-048d-4c67-8c83-bac75968c3a0",
   "metadata": {},
   "outputs": [],
   "source": [
    "print(\"\\n\" * 4)"
   ]
  },
  {
   "cell_type": "code",
   "execution_count": null,
   "id": "91b865e7-d637-4ae2-b745-27103fc14fb9",
   "metadata": {},
   "outputs": [],
   "source": [
    "# Can you briefly explain why you buy these yarn fibers for the selected project types?\n",
    "\n",
    "# Print statement question.\n",
    "question = all_responses.columns[38]\n",
    "#Same size.\n",
    "sample_size = all_responses.iloc[:, 38].notnull().sum()\n",
    "\n",
    "# Load English stopwords\n",
    "stop_words = set(stopwords.words('english'))\n",
    "\n",
    "# Initialize the Porter Stemmer\n",
    "stemmer = PorterStemmer()\n",
    "\n",
    "#Case sensitive, cast lower case. \n",
    "process_data = all_responses.iloc[:, 38].dropna().astype(str).str.lower()  # Lowercase conversion\n",
    "\n",
    "def clean_text(text):\n",
    "    # Tokenize\n",
    "    tokens = nltk.word_tokenize(text)\n",
    "    # Remove punctuation\n",
    "    tokens = [word for word in tokens if word.isalnum()]\n",
    "    # Remove stopwords\n",
    "    tokens = [word for word in tokens if word not in stop_words]\n",
    "    return tokens\n",
    "\n",
    "# Apply cleaning function\n",
    "tokenized_data = process_data.apply(clean_text)\n",
    "\n",
    "# Apply stemming\n",
    "stemmed_data = tokenized_data.apply(lambda x: [stemmer.stem(word) for word in x])\n",
    "\n",
    "# Flatten the list of lists for n-grams analysis\n",
    "all_words = [word for text in stemmed_data for word in text]\n",
    "\n",
    "# Generate bi-grams and tri-grams\n",
    "bi_grams = ngrams(all_words, 2)\n",
    "tri_grams = ngrams(all_words, 3)\n",
    "\n",
    "# Count and find the top 10 uni, bi, and tri-grams,\n",
    "top_unigrams = Counter(all_words).most_common(10)\n",
    "top_bi_grams = Counter(bi_grams).most_common(10)\n",
    "top_tri_grams = Counter(tri_grams).most_common(10)\n",
    "\n",
    "#Question statement\n",
    "print(f'Question: {question} (Sample Size: n = {sample_size})')\n",
    "\n",
    "# Line break\n",
    "print(\"\\n\")\n",
    "\n",
    "# Print the top 10 single word occurrences\n",
    "print(\"Top 10 Single Word Occurrences:\")\n",
    "for word, count in top_unigrams:\n",
    "    print(f\"{word}: {count}\")\n",
    "\n",
    "# Line break\n",
    "print(\"\\n\")\n",
    "\n",
    "print(\"Top 10 Two Word Occurrences:\")\n",
    "for gram, count in top_bi_grams:\n",
    "    print(f\"{gram}: {count}\")\n",
    "\n",
    "# Add a line break\n",
    "print(\"\\n\")\n",
    "\n",
    "print(\"\\nTop 10 Three Word Occurrences:\")\n",
    "for gram, count in top_tri_grams:\n",
    "    print(f\"{gram}: {count}\")"
   ]
  },
  {
   "cell_type": "code",
   "execution_count": null,
   "id": "fe618e9e-53b0-4980-b276-6970d742f935",
   "metadata": {},
   "outputs": [],
   "source": [
    "print(\"\\n\" * 4)"
   ]
  },
  {
   "cell_type": "code",
   "execution_count": null,
   "id": "943dcfac-7c55-4b60-be5c-01a34de1f30e",
   "metadata": {},
   "outputs": [],
   "source": [
    "# How important is sustainability in the yarns you choose?\n",
    "question = all_responses.columns[39]\n",
    "summary, sample_size = summarize_column(all_responses, question)\n",
    "\n",
    "print(f'Question: {question} (Sample Size: n = {sample_size})')\n",
    "display(summary)"
   ]
  },
  {
   "cell_type": "code",
   "execution_count": null,
   "id": "d814893f-7d9d-4459-aebd-48d1da1651b8",
   "metadata": {},
   "outputs": [],
   "source": [
    "print(\"\\n\" * 4)"
   ]
  },
  {
   "cell_type": "code",
   "execution_count": null,
   "id": "cbdaf7e4-dada-4422-a94d-00fc721bdb63",
   "metadata": {},
   "outputs": [],
   "source": [
    "# Which social media platforms do you normally get project ideas from?\n",
    "\n",
    "# Print statement question.\n",
    "question = all_responses.columns[40]\n",
    "\n",
    "# Remove parenthesis, they have commas.\n",
    "preprocessed = all_responses.iloc[:, 40].str.replace(r\"\\s*\\([^)]*\\)\", \"\", regex=True)\n",
    "\n",
    "# Split previous concatenation.\n",
    "split_options = preprocessed.str.split(', ')\n",
    "\n",
    "# Calculate the total number of rows before exploding.\n",
    "sample_size = all_responses.iloc[:, 40].notnull().sum()\n",
    "\n",
    "# Create a temporary DataFrame for exploding, to avoid modifying the original\n",
    "temp_df = pd.DataFrame({'Split': split_options})\n",
    "temp_df = temp_df.explode('Split')\n",
    "\n",
    "# Filter out rows where 'SplitBrands' is empty or contains only whitespace\n",
    "temp_df = temp_df[temp_df['Split'].str.strip().astype(bool)]\n",
    "\n",
    "# Step 3: Count occurrences of each brand\n",
    "option_counts = temp_df['Split'].value_counts().reset_index()\n",
    "option_counts.columns = ['Options', 'Count']\n",
    "\n",
    "# Step 4: Calculate the percentage of each brand's occurrence based on the original number of responses\n",
    "option_counts['Percentage'] = ((option_counts['Count'] / sample_size) * 100).round(1)\n",
    "\n",
    "print(f'Question: {question} (Sample Size: n = {sample_size})')\n",
    "\n",
    "display(option_counts.head(10)) "
   ]
  },
  {
   "cell_type": "code",
   "execution_count": null,
   "id": "a03c935f-0549-4981-9a6a-9ea0fe937232",
   "metadata": {},
   "outputs": [],
   "source": [
    "print(\"\\n\" * 4)"
   ]
  },
  {
   "cell_type": "code",
   "execution_count": null,
   "id": "7e80c67c-d5ad-4016-90fc-d455bba7fe5b",
   "metadata": {},
   "outputs": [],
   "source": [
    "# Who is your favorite content creator or designer you follow?\n",
    "\n",
    "# Print statement question.\n",
    "question = all_responses.columns[41]\n",
    "#Same size.\n",
    "sample_size = all_responses.iloc[:, 41].notnull().sum()\n",
    "\n",
    "# Load English stopwords\n",
    "stop_words = set(stopwords.words('english'))\n",
    "\n",
    "# Initialize the Porter Stemmer\n",
    "stemmer = PorterStemmer()\n",
    "\n",
    "#Case sensitive, cast lower case. \n",
    "process_data = all_responses.iloc[:, 41].dropna().astype(str).str.lower()  # Lowercase conversion\n",
    "\n",
    "def clean_text(text):\n",
    "    # Tokenize\n",
    "    tokens = nltk.word_tokenize(text)\n",
    "    # Remove punctuation\n",
    "    tokens = [word for word in tokens if word.isalnum()]\n",
    "    # Remove stopwords\n",
    "    tokens = [word for word in tokens if word not in stop_words]\n",
    "    return tokens\n",
    "\n",
    "# Apply cleaning function\n",
    "tokenized_data = process_data.apply(clean_text)\n",
    "\n",
    "# Apply stemming\n",
    "stemmed_data = tokenized_data.apply(lambda x: [stemmer.stem(word) for word in x])\n",
    "\n",
    "# Flatten the list of lists for n-grams analysis\n",
    "all_words = [word for text in stemmed_data for word in text]\n",
    "\n",
    "# Generate bi-grams and tri-grams\n",
    "bi_grams = ngrams(all_words, 2)\n",
    "\n",
    "# Count and find the top 10 uni, bi, and tri-grams,\n",
    "top_bi_grams = Counter(bi_grams).most_common(20)\n",
    "\n",
    "#Question statement\n",
    "print(f'Question: {question} (Sample Size: n = {sample_size})')\n",
    "\n",
    "# Line break\n",
    "print(\"\\n\")\n",
    "\n",
    "print(\"Top 20 Two Word Occurrences:\")\n",
    "for gram, count in top_bi_grams:\n",
    "    print(f\"{gram}: {count}\")\n"
   ]
  },
  {
   "cell_type": "code",
   "execution_count": null,
   "id": "3d6cc31b-d283-46f9-8ca2-f96eb25f56f9",
   "metadata": {},
   "outputs": [],
   "source": [
    "print(\"\\n\" * 4)"
   ]
  },
  {
   "cell_type": "code",
   "execution_count": null,
   "id": "77f30341-09b2-4d24-a804-5d4054b981bd",
   "metadata": {},
   "outputs": [],
   "source": [
    "# How many projects do you start in a year?\n",
    "question = all_responses.columns[42]\n",
    "summary, sample_size = summarize_column(all_responses, question)\n",
    "\n",
    "print(f'Question: {question} (Sample Size: n = {sample_size})')\n",
    "display(summary.head(10))"
   ]
  },
  {
   "cell_type": "code",
   "execution_count": null,
   "id": "304b47a1-9bfd-4833-b952-a551e702f184",
   "metadata": {},
   "outputs": [],
   "source": [
    "print(\"\\n\" * 4)"
   ]
  },
  {
   "cell_type": "code",
   "execution_count": null,
   "id": "5dd9c012-9a4b-4a2f-bec9-8ca876232be7",
   "metadata": {},
   "outputs": [],
   "source": [
    "# How many projects do you complete in a year?\n",
    "question = all_responses.columns[43]\n",
    "summary, sample_size = summarize_column(all_responses, question)\n",
    "\n",
    "print(f'Question: {question} (Sample Size: n = {sample_size})')\n",
    "display(summary.head(10))"
   ]
  },
  {
   "cell_type": "code",
   "execution_count": null,
   "id": "1a24d262-44d9-49e7-b08e-c0ca5f4d2f67",
   "metadata": {},
   "outputs": [],
   "source": [
    "print(\"\\n\" * 4)"
   ]
  },
  {
   "cell_type": "code",
   "execution_count": null,
   "id": "cc401361-2f65-435c-a7f9-174b81124c9f",
   "metadata": {},
   "outputs": [],
   "source": [
    "# How do you feel about the balance between classic and trendy yarns in our selection? 1 Classic , 5 Trendy.\n",
    "question = all_responses.columns[44]\n",
    "summary, sample_size = summarize_column(all_responses, question)\n",
    "\n",
    "print(f'Question: {question} (Sample Size: n = {sample_size})')\n",
    "display(summary.head(10))"
   ]
  },
  {
   "cell_type": "code",
   "execution_count": null,
   "id": "e6046de8-be81-438a-92fa-997b4cb0d6b0",
   "metadata": {},
   "outputs": [],
   "source": [
    "print(\"\\n\" * 4)"
   ]
  },
  {
   "cell_type": "code",
   "execution_count": null,
   "id": "6bb9229b-a144-4dcf-86fe-fb189934302b",
   "metadata": {},
   "outputs": [],
   "source": [
    "# How often is something you want from our website out-of-stock?\n",
    "question = all_responses.columns[45]\n",
    "summary, sample_size = summarize_column(all_responses, question)\n",
    "\n",
    "print(f'Question: {question} (Sample Size: n = {sample_size})')\n",
    "display(summary.head(10))"
   ]
  },
  {
   "cell_type": "code",
   "execution_count": null,
   "id": "587cda67-35ff-498c-b1c5-77668dade502",
   "metadata": {},
   "outputs": [],
   "source": [
    "print(\"\\n\" * 4)"
   ]
  },
  {
   "cell_type": "code",
   "execution_count": null,
   "id": "9518aec4-56fc-48dc-84bf-5a19ded3e99c",
   "metadata": {},
   "outputs": [],
   "source": [
    "# How effective is our communication when items are restocked?\n",
    "question = all_responses.columns[46]\n",
    "summary, sample_size = summarize_column(all_responses, question)\n",
    "\n",
    "print(f'Question: {question} (Sample Size: n = {sample_size})')\n",
    "display(summary.head(10))"
   ]
  },
  {
   "cell_type": "code",
   "execution_count": null,
   "id": "608d7558-113e-404a-b870-9d42bbc5e846",
   "metadata": {},
   "outputs": [],
   "source": [
    "print(\"\\n\" * 4)"
   ]
  },
  {
   "cell_type": "code",
   "execution_count": null,
   "id": "413a6137-165a-48a8-8376-34c18a18b5eb",
   "metadata": {},
   "outputs": [],
   "source": [
    "# Have you been able to find everything you need for a project on our website?\n",
    "question = all_responses.columns[47]\n",
    "summary, sample_size = summarize_column(all_responses, question)\n",
    "\n",
    "print(f'Question: {question} (Sample Size: n = {sample_size})')\n",
    "display(summary.head(10))"
   ]
  },
  {
   "cell_type": "code",
   "execution_count": null,
   "id": "4cf959a8-081e-46c7-887f-b74a9ca99111",
   "metadata": {},
   "outputs": [],
   "source": [
    "print(\"\\n\" * 4)"
   ]
  },
  {
   "cell_type": "code",
   "execution_count": null,
   "id": "13a37008-5fb7-4feb-87fa-1b25f996b29a",
   "metadata": {},
   "outputs": [],
   "source": [
    "# Are there any yarn related products you think we should start carrying?\n",
    "\n",
    "# Print statement question.\n",
    "question = all_responses.columns[48]\n",
    "#Same size.\n",
    "sample_size = all_responses.iloc[:, 48].notnull().sum()\n",
    "\n",
    "# Load English stopwords\n",
    "stop_words = set(stopwords.words('english'))\n",
    "\n",
    "# Initialize the Porter Stemmer\n",
    "stemmer = PorterStemmer()\n",
    "\n",
    "#Case sensitive, cast lower case. \n",
    "process_data = all_responses.iloc[:, 48].dropna().astype(str).str.lower()  # Lowercase conversion\n",
    "\n",
    "def clean_text(text):\n",
    "    # Tokenize\n",
    "    tokens = nltk.word_tokenize(text)\n",
    "    # Remove punctuation\n",
    "    tokens = [word for word in tokens if word.isalnum()]\n",
    "    # Remove stopwords\n",
    "    tokens = [word for word in tokens if word not in stop_words]\n",
    "    return tokens\n",
    "\n",
    "# Apply cleaning function\n",
    "tokenized_data = process_data.apply(clean_text)\n",
    "\n",
    "# Apply stemming\n",
    "stemmed_data = tokenized_data.apply(lambda x: [stemmer.stem(word) for word in x])\n",
    "\n",
    "# Flatten the list of lists for n-grams analysis\n",
    "all_words = [word for text in stemmed_data for word in text]\n",
    "\n",
    "# Generate bi-grams and tri-grams\n",
    "bi_grams = ngrams(all_words, 2)\n",
    "tri_grams = ngrams(all_words, 3)\n",
    "\n",
    "# Count and find the top 10 uni, bi, and tri-grams,\n",
    "top_unigrams = Counter(all_words).most_common(10)\n",
    "top_bi_grams = Counter(bi_grams).most_common(10)\n",
    "top_tri_grams = Counter(tri_grams).most_common(10)\n",
    "\n",
    "#Question statement\n",
    "print(f'Question: {question} (Sample Size: n = {sample_size})')\n",
    "\n",
    "# Line break\n",
    "print(\"\\n\")\n",
    "\n",
    "# Print the top 10 single word occurrences\n",
    "print(\"Top 10 Single Word Occurrences:\")\n",
    "for word, count in top_unigrams:\n",
    "    print(f\"{word}: {count}\")\n",
    "\n",
    "# Line break\n",
    "print(\"\\n\")\n",
    "\n",
    "print(\"Top 10 Two Word Occurrences:\")\n",
    "for gram, count in top_bi_grams:\n",
    "    print(f\"{gram}: {count}\")\n",
    "\n",
    "# Add a line break\n",
    "print(\"\\n\")\n",
    "\n",
    "print(\"\\nTop 10 Three Word Occurrences:\")\n",
    "for gram, count in top_tri_grams:\n",
    "    print(f\"{gram}: {count}\")"
   ]
  },
  {
   "cell_type": "code",
   "execution_count": null,
   "id": "cb58bb54-4156-4366-8e6f-2949b269e6a6",
   "metadata": {},
   "outputs": [],
   "source": [
    "print(\"\\n\" * 4)"
   ]
  },
  {
   "cell_type": "code",
   "execution_count": null,
   "id": "63da8db8-acfd-4fc9-a682-6c8a7fea1f1a",
   "metadata": {},
   "outputs": [],
   "source": [
    "# How easy do you find navigating our website to browse products?\n",
    "question = all_responses.columns[49]\n",
    "summary, sample_size = summarize_column(all_responses, question)\n",
    "\n",
    "print(f'Question: {question} (Sample Size: n = {sample_size})')\n",
    "display(summary.head(10))"
   ]
  },
  {
   "cell_type": "code",
   "execution_count": null,
   "id": "59bc8209-91cb-4f22-a146-a56298ea574d",
   "metadata": {},
   "outputs": [],
   "source": [
    "print(\"\\n\" * 4)"
   ]
  },
  {
   "cell_type": "code",
   "execution_count": null,
   "id": "88d60a02-4eda-4bca-bcdb-9884c3093d7b",
   "metadata": {},
   "outputs": [],
   "source": [
    "# Would you recommend any changes to our website to make browsing easier?\n",
    "\n",
    "# Print statement question.\n",
    "question = all_responses.columns[50]\n",
    "#Same size.\n",
    "sample_size = all_responses.iloc[:, 50].notnull().sum()\n",
    "\n",
    "# Load English stopwords\n",
    "stop_words = set(stopwords.words('english'))\n",
    "\n",
    "# Initialize the Porter Stemmer\n",
    "stemmer = PorterStemmer()\n",
    "\n",
    "#Case sensitive, cast lower case. \n",
    "process_data = all_responses.iloc[:, 50].dropna().astype(str).str.lower()  # Lowercase conversion\n",
    "\n",
    "def clean_text(text):\n",
    "    # Tokenize\n",
    "    tokens = nltk.word_tokenize(text)\n",
    "    # Remove punctuation\n",
    "    tokens = [word for word in tokens if word.isalnum()]\n",
    "    # Remove stopwords\n",
    "    tokens = [word for word in tokens if word not in stop_words]\n",
    "    return tokens\n",
    "\n",
    "# Apply cleaning function\n",
    "tokenized_data = process_data.apply(clean_text)\n",
    "\n",
    "# Apply stemming\n",
    "stemmed_data = tokenized_data.apply(lambda x: [stemmer.stem(word) for word in x])\n",
    "\n",
    "# Flatten the list of lists for n-grams analysis\n",
    "all_words = [word for text in stemmed_data for word in text]\n",
    "\n",
    "# Generate bi-grams and tri-grams\n",
    "bi_grams = ngrams(all_words, 2)\n",
    "tri_grams = ngrams(all_words, 3)\n",
    "\n",
    "# Count and find the top 10 uni, bi, and tri-grams,\n",
    "top_unigrams = Counter(all_words).most_common(10)\n",
    "top_bi_grams = Counter(bi_grams).most_common(10)\n",
    "top_tri_grams = Counter(tri_grams).most_common(10)\n",
    "\n",
    "#Question statement\n",
    "print(f'Question: {question} (Sample Size: n = {sample_size})')\n",
    "\n",
    "# Line break\n",
    "print(\"\\n\")\n",
    "\n",
    "# Print the top 10 single word occurrences\n",
    "print(\"Top 10 Single Word Occurrences:\")\n",
    "for word, count in top_unigrams:\n",
    "    print(f\"{word}: {count}\")\n",
    "\n",
    "# Line break\n",
    "print(\"\\n\")\n",
    "\n",
    "print(\"Top 10 Two Word Occurrences:\")\n",
    "for gram, count in top_bi_grams:\n",
    "    print(f\"{gram}: {count}\")\n",
    "\n",
    "# Add a line break\n",
    "print(\"\\n\")\n",
    "\n",
    "print(\"\\nTop 10 Three Word Occurrences:\")\n",
    "for gram, count in top_tri_grams:\n",
    "    print(f\"{gram}: {count}\")"
   ]
  },
  {
   "cell_type": "code",
   "execution_count": null,
   "id": "a9d63df2-8645-406d-87b3-617874abea5c",
   "metadata": {},
   "outputs": [],
   "source": [
    "print(\"\\n\" * 4)"
   ]
  },
  {
   "cell_type": "code",
   "execution_count": null,
   "id": "5cf42cd2-6aad-41d1-9885-119fa28b2134",
   "metadata": {},
   "outputs": [],
   "source": [
    "# How would you rate the organization and categorization of products on our site?\n",
    "question = all_responses.columns[51]\n",
    "summary, sample_size = summarize_column(all_responses, question)\n",
    "\n",
    "print(f'Question: {question} (Sample Size: n = {sample_size})')\n",
    "display(summary.head(10))"
   ]
  },
  {
   "cell_type": "code",
   "execution_count": null,
   "id": "baa539be-58c3-4235-b0ef-ec8fc7e7d5ce",
   "metadata": {},
   "outputs": [],
   "source": [
    "print(\"\\n\" * 4)"
   ]
  },
  {
   "cell_type": "code",
   "execution_count": null,
   "id": "247b2559-c948-4eaf-b1db-5d94debcbd5d",
   "metadata": {},
   "outputs": [],
   "source": [
    "# Do you prefer broader categories with more products or more specific categories with fewer products?\n",
    "question = all_responses.columns[52]\n",
    "summary, sample_size = summarize_column(all_responses, question)\n",
    "\n",
    "print(f'Question: {question} (Sample Size: n = {sample_size})')\n",
    "display(summary.head(10))"
   ]
  },
  {
   "cell_type": "code",
   "execution_count": null,
   "id": "d28fd7f7-b732-4060-98a8-61ec40f6778b",
   "metadata": {},
   "outputs": [],
   "source": [
    "print(\"\\n\" * 4)"
   ]
  },
  {
   "cell_type": "code",
   "execution_count": null,
   "id": "ebedc81f-0b6d-4598-8ec5-5d4298733694",
   "metadata": {},
   "outputs": [],
   "source": [
    "# Have you received one of our catalogs before?\n",
    "question = all_responses.columns[53]\n",
    "summary, sample_size = summarize_column(all_responses, question)\n",
    "\n",
    "print(f'Question: {question} (Sample Size: n = {sample_size})')\n",
    "display(summary.head(10))"
   ]
  },
  {
   "cell_type": "code",
   "execution_count": null,
   "id": "6c8eff8c-5bb4-472f-a44a-9219299c4cc8",
   "metadata": {},
   "outputs": [],
   "source": [
    "print(\"\\n\" * 4)"
   ]
  },
  {
   "cell_type": "code",
   "execution_count": null,
   "id": "dcd42de1-82f7-4333-b4ca-e9fef0c01ad0",
   "metadata": {},
   "outputs": [],
   "source": [
    "# Do you enjoy receiving our product catalogs?\n",
    "question = all_responses.columns[54]\n",
    "summary, sample_size = summarize_column(all_responses, question)\n",
    "\n",
    "print(f'Question: {question} (Sample Size: n = {sample_size})')\n",
    "display(summary.head(10))"
   ]
  },
  {
   "cell_type": "code",
   "execution_count": null,
   "id": "61aabd00-97bf-456c-8371-28abb03abb13",
   "metadata": {},
   "outputs": [],
   "source": [
    "print(\"\\n\" * 4)"
   ]
  },
  {
   "cell_type": "code",
   "execution_count": null,
   "id": "ca659403-d043-41ab-8ed2-16409bd2f463",
   "metadata": {},
   "outputs": [],
   "source": [
    "# How often do our catalogs introduce you to products you weren't aware of before?\n",
    "question = all_responses.columns[55]\n",
    "summary, sample_size = summarize_column(all_responses, question)\n",
    "\n",
    "print(f'Question: {question} (Sample Size: n = {sample_size})')\n",
    "display(summary.head(10))"
   ]
  },
  {
   "cell_type": "code",
   "execution_count": null,
   "id": "e1479d3f-a574-4053-a090-5b2a0ce61465",
   "metadata": {},
   "outputs": [],
   "source": [
    "print(\"\\n\" * 4)"
   ]
  },
  {
   "cell_type": "code",
   "execution_count": null,
   "id": "76eade74-d8ea-4d65-aefc-ddf4b1bdf391",
   "metadata": {},
   "outputs": [],
   "source": [
    "# Have you ever made a purchase after seeing a product in our catalog?\n",
    "question = all_responses.columns[56]\n",
    "summary, sample_size = summarize_column(all_responses, question)\n",
    "\n",
    "print(f'Question: {question} (Sample Size: n = {sample_size})')\n",
    "display(summary.head(10))"
   ]
  },
  {
   "cell_type": "code",
   "execution_count": null,
   "id": "3bfd72c4-eb7c-4096-b7af-d08ce99f82e1",
   "metadata": {},
   "outputs": [],
   "source": [
    "print(\"\\n\" * 4)"
   ]
  },
  {
   "cell_type": "code",
   "execution_count": null,
   "id": "c0bdd539-f657-444d-900a-2db10607b711",
   "metadata": {},
   "outputs": [],
   "source": [
    "# Are you concerned about the environmental impact of receiving physical catalogs?\n",
    "question = all_responses.columns[57]\n",
    "summary, sample_size = summarize_column(all_responses, question)\n",
    "\n",
    "print(f'Question: {question} (Sample Size: n = {sample_size})')\n",
    "display(summary.head(10))"
   ]
  },
  {
   "cell_type": "code",
   "execution_count": null,
   "id": "d75f25e3-30d2-4556-a6f7-6d7a12c9ab63",
   "metadata": {},
   "outputs": [],
   "source": [
    "print(\"\\n\" * 4)"
   ]
  },
  {
   "cell_type": "code",
   "execution_count": null,
   "id": "6bd2fcbb-8daa-4eaf-a227-d499115c2dbd",
   "metadata": {},
   "outputs": [],
   "source": [
    "# Do you prefer receiving our catalogs digitally or in a physical format? \n",
    "question = all_responses.columns[58]\n",
    "summary, sample_size = summarize_column(all_responses, question)\n",
    "\n",
    "print(f'Question: {question} (Sample Size: n = {sample_size})')\n",
    "display(summary.head(10))"
   ]
  },
  {
   "cell_type": "code",
   "execution_count": null,
   "id": "601994d2-0065-4da3-82dd-8db0a2db9d8d",
   "metadata": {},
   "outputs": [],
   "source": [
    "print(\"\\n\" * 4)"
   ]
  },
  {
   "cell_type": "code",
   "execution_count": null,
   "id": "61c42b77-bb28-4946-a60e-9e83f0458e16",
   "metadata": {},
   "outputs": [],
   "source": [
    "# What improvements would you suggest for our future catalogs?\n",
    "\n",
    "# Print statement question.\n",
    "question = all_responses.columns[59]\n",
    "#Same size.\n",
    "sample_size = all_responses.iloc[:, 59].notnull().sum()\n",
    "\n",
    "# Load English stopwords\n",
    "stop_words = set(stopwords.words('english'))\n",
    "\n",
    "# Initialize the Porter Stemmer\n",
    "stemmer = PorterStemmer()\n",
    "\n",
    "#Case sensitive, cast lower case. \n",
    "process_data = all_responses.iloc[:, 59].dropna().astype(str).str.lower()  # Lowercase conversion\n",
    "\n",
    "def clean_text(text):\n",
    "    # Tokenize\n",
    "    tokens = nltk.word_tokenize(text)\n",
    "    # Remove punctuation\n",
    "    tokens = [word for word in tokens if word.isalnum()]\n",
    "    # Remove stopwords\n",
    "    tokens = [word for word in tokens if word not in stop_words]\n",
    "    return tokens\n",
    "\n",
    "# Apply cleaning function\n",
    "tokenized_data = process_data.apply(clean_text)\n",
    "\n",
    "# Apply stemming\n",
    "stemmed_data = tokenized_data.apply(lambda x: [stemmer.stem(word) for word in x])\n",
    "\n",
    "# Flatten the list of lists for n-grams analysis\n",
    "all_words = [word for text in stemmed_data for word in text]\n",
    "\n",
    "# Generate bi-grams and tri-grams\n",
    "bi_grams = ngrams(all_words, 2)\n",
    "tri_grams = ngrams(all_words, 3)\n",
    "\n",
    "# Count and find the top 10 uni, bi, and tri-grams,\n",
    "top_unigrams = Counter(all_words).most_common(10)\n",
    "top_bi_grams = Counter(bi_grams).most_common(10)\n",
    "top_tri_grams = Counter(tri_grams).most_common(10)\n",
    "\n",
    "#Question statement\n",
    "print(f'Question: {question} (Sample Size: n = {sample_size})')\n",
    "\n",
    "# Line break\n",
    "print(\"\\n\")\n",
    "\n",
    "# Print the top 10 single word occurrences\n",
    "print(\"Top 10 Single Word Occurrences:\")\n",
    "for word, count in top_unigrams:\n",
    "    print(f\"{word}: {count}\")\n",
    "\n",
    "# Line break\n",
    "print(\"\\n\")\n",
    "\n",
    "print(\"Top 10 Two Word Occurrences:\")\n",
    "for gram, count in top_bi_grams:\n",
    "    print(f\"{gram}: {count}\")\n",
    "\n",
    "# Add a line break\n",
    "print(\"\\n\")\n",
    "\n",
    "print(\"\\nTop 10 Three Word Occurrences:\")\n",
    "for gram, count in top_tri_grams:\n",
    "    print(f\"{gram}: {count}\")"
   ]
  },
  {
   "cell_type": "code",
   "execution_count": null,
   "id": "21a0c131-5518-4646-a872-89e8b1af7e19",
   "metadata": {},
   "outputs": [],
   "source": [
    "print(\"\\n\" * 4)"
   ]
  },
  {
   "cell_type": "code",
   "execution_count": null,
   "id": "f9861f9e-9bdc-424c-b527-b5f01cff02e2",
   "metadata": {},
   "outputs": [],
   "source": [
    "# Have you ever contacted our customer service before? \n",
    "question = all_responses.columns[60]\n",
    "summary, sample_size = summarize_column(all_responses, question)\n",
    "\n",
    "print(f'Question: {question} (Sample Size: n = {sample_size})')\n",
    "display(summary.head(5))"
   ]
  },
  {
   "cell_type": "code",
   "execution_count": null,
   "id": "e2d37235-f20d-4f0e-8e3e-dd4d8818cb10",
   "metadata": {},
   "outputs": [],
   "source": [
    "print(\"\\n\" * 4)"
   ]
  },
  {
   "cell_type": "code",
   "execution_count": null,
   "id": "6b1e86d1-9d2c-412a-b025-b482ce9f2f10",
   "metadata": {},
   "outputs": [],
   "source": [
    "# How would you rate the speed of our response to inquiries or issues?\n",
    "question = all_responses.columns[61]\n",
    "summary, sample_size = summarize_column(all_responses, question)\n",
    "\n",
    "print(f'Question: {question} (Sample Size: n = {sample_size})')\n",
    "display(summary.head(5))"
   ]
  },
  {
   "cell_type": "code",
   "execution_count": null,
   "id": "5dacddd5-3ab8-4aa1-ae22-b3b55595682d",
   "metadata": {},
   "outputs": [],
   "source": [
    "print(\"\\n\" * 4)"
   ]
  },
  {
   "cell_type": "code",
   "execution_count": null,
   "id": "3b542c1f-9681-49dd-a49f-b2f5acdb7257",
   "metadata": {},
   "outputs": [],
   "source": [
    "# How helpful do you find our customer service team?\n",
    "question = all_responses.columns[62]\n",
    "summary, sample_size = summarize_column(all_responses, question)\n",
    "\n",
    "print(f'Question: {question} (Sample Size: n = {sample_size})')\n",
    "display(summary.head(5))"
   ]
  },
  {
   "cell_type": "code",
   "execution_count": null,
   "id": "47c3ab3c-89bf-41c1-ac09-904eb70f1723",
   "metadata": {},
   "outputs": [],
   "source": [
    "print(\"\\n\" * 4)"
   ]
  },
  {
   "cell_type": "code",
   "execution_count": null,
   "id": "56b5bac9-dd52-4f15-ac1a-1222bd2bd307",
   "metadata": {},
   "outputs": [],
   "source": [
    "# How well did our customer service team understand the products related to your inquiry?\n",
    "question = all_responses.columns[63]\n",
    "summary, sample_size = summarize_column(all_responses, question)\n",
    "\n",
    "print(f'Question: {question} (Sample Size: n = {sample_size})')\n",
    "display(summary.head(5))"
   ]
  },
  {
   "cell_type": "code",
   "execution_count": null,
   "id": "ead61065-0755-4146-b0b4-b1e95e6ab502",
   "metadata": {},
   "outputs": [],
   "source": [
    "print(\"\\n\" * 4)"
   ]
  },
  {
   "cell_type": "code",
   "execution_count": null,
   "id": "d4fa7af6-b11e-4af8-b6c4-606506500a9f",
   "metadata": {},
   "outputs": [],
   "source": [
    "# Overall, are you satisfied with the resolution our customer service provided?\n",
    "question = all_responses.columns[64]\n",
    "summary, sample_size = summarize_column(all_responses, question)\n",
    "\n",
    "print(f'Question: {question} (Sample Size: n = {sample_size})')\n",
    "display(summary.head(5))"
   ]
  },
  {
   "cell_type": "code",
   "execution_count": null,
   "id": "4703c4b8-c7b6-41e1-9432-dc11095ea308",
   "metadata": {},
   "outputs": [],
   "source": [
    "print(\"\\n\" * 4)"
   ]
  },
  {
   "cell_type": "code",
   "execution_count": null,
   "id": "817df7e9-bf02-40db-aa44-717667afbf24",
   "metadata": {},
   "outputs": [],
   "source": [
    "# What is one thing we could improve about our customer service?\n",
    "question = all_responses.columns[65]\n",
    "summary, sample_size = summarize_column(all_responses, question)\n",
    "\n",
    "print(f'Question: {question} (Sample Size: n = {sample_size})')\n",
    "display(summary.head(5))"
   ]
  },
  {
   "cell_type": "code",
   "execution_count": null,
   "id": "cdcd31e6-fff3-4e15-a75a-dc5f0053f189",
   "metadata": {},
   "outputs": [],
   "source": [
    "print(\"\\n\" * 4)"
   ]
  },
  {
   "cell_type": "code",
   "execution_count": null,
   "id": "6c056180-6cc9-4b23-b7aa-c9803c30f170",
   "metadata": {},
   "outputs": [],
   "source": [
    "# On a scale of 0-10, how likely are you to recommend us to a friend or family member?\n",
    "question = all_responses.columns[66]\n",
    "summary, sample_size = summarize_column(all_responses, question)\n",
    "\n",
    "print(f'Question: {question} (Sample Size: n = {sample_size})')\n",
    "display(summary.head(10))"
   ]
  },
  {
   "cell_type": "code",
   "execution_count": null,
   "id": "c03a2d63-cd65-4c9c-b098-5fff569c92b1",
   "metadata": {},
   "outputs": [],
   "source": [
    "print(\"\\n\" * 4)"
   ]
  },
  {
   "cell_type": "code",
   "execution_count": null,
   "id": "9111c894-75b8-48cf-9912-878e9231c7a3",
   "metadata": {},
   "outputs": [],
   "source": [
    "# What is your current age?\n",
    "question = all_responses.columns[67]\n",
    "summary, sample_size = summarize_column(all_responses, question)\n",
    "\n",
    "print(f'Question: {question} (Sample Size: n = {sample_size})')\n",
    "display(summary.head(10))"
   ]
  },
  {
   "cell_type": "code",
   "execution_count": null,
   "id": "2ca7d8ee-1528-48a7-95a8-ba0e4bbfc13e",
   "metadata": {},
   "outputs": [],
   "source": [
    "print(\"\\n\" * 4)"
   ]
  },
  {
   "cell_type": "code",
   "execution_count": null,
   "id": "369ccccb-89e7-4061-8d36-1f6074adc9cb",
   "metadata": {},
   "outputs": [],
   "source": [
    "# How do you identify? \n",
    "question = all_responses.columns[68]\n",
    "summary, sample_size = summarize_column(all_responses, question)\n",
    "\n",
    "print(f'Question: {question} (Sample Size: n = {sample_size})')\n",
    "display(summary.head(10))"
   ]
  },
  {
   "cell_type": "code",
   "execution_count": null,
   "id": "565cc885-de3e-4bb1-8f86-4344ca4962be",
   "metadata": {},
   "outputs": [],
   "source": [
    "print(\"\\n\" * 4)"
   ]
  },
  {
   "cell_type": "code",
   "execution_count": null,
   "id": "98416dc4-27fa-4191-8fc1-e780895f8e10",
   "metadata": {},
   "outputs": [],
   "source": [
    "# What is your employment status?\n",
    "question = all_responses.columns[69]\n",
    "summary, sample_size = summarize_column(all_responses, question)\n",
    "\n",
    "print(f'Question: {question} (Sample Size: n = {sample_size})')\n",
    "display(summary.head(10))"
   ]
  },
  {
   "cell_type": "code",
   "execution_count": null,
   "id": "dd8aad1d-a36a-4dc5-b342-9de0bda222d1",
   "metadata": {},
   "outputs": [],
   "source": [
    "print(\"\\n\" * 4)"
   ]
  },
  {
   "cell_type": "code",
   "execution_count": null,
   "id": "e415d771-9397-4a42-86ba-d91d35b9b157",
   "metadata": {},
   "outputs": [],
   "source": [
    "# What is your highest level of education? \n",
    "question = all_responses.columns[70]\n",
    "summary, sample_size = summarize_column(all_responses, question)\n",
    "\n",
    "print(f'Question: {question} (Sample Size: n = {sample_size})')\n",
    "display(summary.head(10))"
   ]
  },
  {
   "cell_type": "code",
   "execution_count": null,
   "id": "1e2e279a-1ca0-4c56-a0d6-18aa3eb5e1bb",
   "metadata": {},
   "outputs": [],
   "source": [
    "print(\"\\n\" * 4)"
   ]
  },
  {
   "cell_type": "code",
   "execution_count": null,
   "id": "1ec9c271-e4bc-4ccd-80e6-98d8a9fec504",
   "metadata": {},
   "outputs": [],
   "source": [
    "# What is your marital status?\n",
    "question = all_responses.columns[71]\n",
    "summary, sample_size = summarize_column(all_responses, question)\n",
    "\n",
    "print(f'Question: {question} (Sample Size: n = {sample_size})')\n",
    "display(summary.head(10))"
   ]
  },
  {
   "cell_type": "code",
   "execution_count": null,
   "id": "dffdb42c-07e8-4618-a8c2-26b8e5ca634b",
   "metadata": {},
   "outputs": [],
   "source": [
    "print(\"\\n\" * 4)"
   ]
  },
  {
   "cell_type": "code",
   "execution_count": null,
   "id": "75586f53-873e-4975-b47f-95e6e36776be",
   "metadata": {},
   "outputs": [],
   "source": [
    "# What is your total household income in U.S. dollars?\n",
    "question = all_responses.columns[72]\n",
    "summary, sample_size = summarize_column(all_responses, question)\n",
    "\n",
    "print(f'Question: {question} (Sample Size: n = {sample_size})')\n",
    "display(summary)"
   ]
  }
 ],
 "metadata": {
  "kernelspec": {
   "display_name": "Python 3 (ipykernel)",
   "language": "python",
   "name": "python3"
  },
  "language_info": {
   "codemirror_mode": {
    "name": "ipython",
    "version": 3
   },
   "file_extension": ".py",
   "mimetype": "text/x-python",
   "name": "python",
   "nbconvert_exporter": "python",
   "pygments_lexer": "ipython3",
   "version": "3.10.4"
  },
  "latex_metadata": {
   "cellbreak": "\\interlinepenalty=10000 \\relax"
  }
 },
 "nbformat": 4,
 "nbformat_minor": 5
}
